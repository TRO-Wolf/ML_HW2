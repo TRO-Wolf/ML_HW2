{
 "cells": [
  {
   "cell_type": "code",
   "execution_count": 2,
   "metadata": {},
   "outputs": [],
   "source": [
    "import warnings\n",
    "import requests\n",
    "warnings.filterwarnings('ignore')\n",
    "\n",
    "\n",
    "from pathlib import Path\n",
    "import sys, os\n",
    "from io import BytesIO\n",
    "from zipfile import ZipFile, BadZipFile\n",
    "\n",
    "import numpy as np\n",
    "import pandas as pd\n",
    "\n",
    "\n",
    "from numpy.random import choice, normal\n",
    "\n",
    "import seaborn as sns\n",
    "import matplotlib.pyplot as plt\n",
    "import joblib\n",
    "from matplotlib.ticker import FuncFormatter\n",
    "\n",
    "from sklearn.datasets import fetch_openml\n",
    "\n",
    "\n",
    "\n",
    "\n",
    "from matplotlib import cm\n",
    "from itertools import product\n",
    "\n",
    "import time\n",
    "from datetime import datetime, timedelta\n",
    "import plotly.io as pio\n",
    "import plotly.express as px\n",
    "\n",
    "import talib\n",
    "\n",
    "#import gtts\n",
    "#from playsound import playsound\n",
    "\n",
    "\n",
    "from scipy.stats import spearmanr\n",
    "from sklearn.datasets import fetch_openml\n",
    "from sklearn.metrics import mean_squared_error, explained_variance_score, roc_curve, make_scorer, roc_auc_score, mean_absolute_error, recall_score, precision_score, accuracy_score\n",
    "from sklearn.preprocessing import StandardScaler\n",
    "from sklearn.linear_model import LinearRegression, Ridge, Lasso, LogisticRegression\n",
    "from sklearn.pipeline import Pipeline\n",
    "from sklearn.model_selection import GridSearchCV, train_test_split, learning_curve, cross_val_score\n",
    "from sklearn.tree import DecisionTreeClassifier, DecisionTreeRegressor, export_graphviz, _tree\n",
    "from sklearn import tree\n",
    "from sklearn.ensemble import BaggingRegressor, RandomForestClassifier, RandomForestRegressor, AdaBoostRegressor, AdaBoostClassifier, GradientBoostingClassifier, GradientBoostingRegressor, VotingClassifier\n",
    "\n",
    "\n",
    "pd.set_option('display.expand_frame_repr', False)\n",
    "\n",
    "sns.set_style('whitegrid')\n",
    "idx = pd.IndexSlice\n",
    "\n",
    "pd.options.display.max_rows = 500"
   ]
  },
  {
   "cell_type": "code",
   "execution_count": null,
   "metadata": {},
   "outputs": [],
   "source": []
  },
  {
   "cell_type": "code",
   "execution_count": 29,
   "metadata": {},
   "outputs": [],
   "source": [
    "url = 'https://raw.githubusercontent.com/ruiwu1990/CSCI_4120/master/HW_linear_regression/data/gauss_R2.csv'\n",
    "df = pd.read_csv(url, header=None)\n",
    "df = df.rename(columns={0:\"X\", 1:\"Y\"})\n",
    "data = df[1:]\n",
    "data['X'] = data['X'].astype('float64')\n",
    "data['Y'] = data['Y'].astype('float64')"
   ]
  },
  {
   "cell_type": "code",
   "execution_count": 30,
   "metadata": {},
   "outputs": [
    {
     "data": {
      "text/html": [
       "<div>\n",
       "<style scoped>\n",
       "    .dataframe tbody tr th:only-of-type {\n",
       "        vertical-align: middle;\n",
       "    }\n",
       "\n",
       "    .dataframe tbody tr th {\n",
       "        vertical-align: top;\n",
       "    }\n",
       "\n",
       "    .dataframe thead th {\n",
       "        text-align: right;\n",
       "    }\n",
       "</style>\n",
       "<table border=\"1\" class=\"dataframe\">\n",
       "  <thead>\n",
       "    <tr style=\"text-align: right;\">\n",
       "      <th></th>\n",
       "      <th>X</th>\n",
       "      <th>Y</th>\n",
       "      <th>Y-X</th>\n",
       "    </tr>\n",
       "  </thead>\n",
       "  <tbody>\n",
       "    <tr>\n",
       "      <th>1</th>\n",
       "      <td>-0.110299</td>\n",
       "      <td>0.252064</td>\n",
       "      <td>0.362363</td>\n",
       "    </tr>\n",
       "    <tr>\n",
       "      <th>2</th>\n",
       "      <td>2.053240</td>\n",
       "      <td>-0.324025</td>\n",
       "      <td>-2.377266</td>\n",
       "    </tr>\n",
       "    <tr>\n",
       "      <th>3</th>\n",
       "      <td>0.337560</td>\n",
       "      <td>-0.027456</td>\n",
       "      <td>-0.365015</td>\n",
       "    </tr>\n",
       "    <tr>\n",
       "      <th>4</th>\n",
       "      <td>0.371276</td>\n",
       "      <td>0.425773</td>\n",
       "      <td>0.054497</td>\n",
       "    </tr>\n",
       "    <tr>\n",
       "      <th>5</th>\n",
       "      <td>-0.092864</td>\n",
       "      <td>-0.369919</td>\n",
       "      <td>-0.277055</td>\n",
       "    </tr>\n",
       "    <tr>\n",
       "      <th>...</th>\n",
       "      <td>...</td>\n",
       "      <td>...</td>\n",
       "      <td>...</td>\n",
       "    </tr>\n",
       "    <tr>\n",
       "      <th>996</th>\n",
       "      <td>-1.285877</td>\n",
       "      <td>0.277068</td>\n",
       "      <td>1.562945</td>\n",
       "    </tr>\n",
       "    <tr>\n",
       "      <th>997</th>\n",
       "      <td>0.149209</td>\n",
       "      <td>0.350022</td>\n",
       "      <td>0.200812</td>\n",
       "    </tr>\n",
       "    <tr>\n",
       "      <th>998</th>\n",
       "      <td>-0.094531</td>\n",
       "      <td>0.434381</td>\n",
       "      <td>0.528912</td>\n",
       "    </tr>\n",
       "    <tr>\n",
       "      <th>999</th>\n",
       "      <td>0.087508</td>\n",
       "      <td>1.292354</td>\n",
       "      <td>1.204846</td>\n",
       "    </tr>\n",
       "    <tr>\n",
       "      <th>1000</th>\n",
       "      <td>0.044007</td>\n",
       "      <td>1.148659</td>\n",
       "      <td>1.104652</td>\n",
       "    </tr>\n",
       "  </tbody>\n",
       "</table>\n",
       "<p>1000 rows × 3 columns</p>\n",
       "</div>"
      ],
      "text/plain": [
       "             X         Y       Y-X\n",
       "1    -0.110299  0.252064  0.362363\n",
       "2     2.053240 -0.324025 -2.377266\n",
       "3     0.337560 -0.027456 -0.365015\n",
       "4     0.371276  0.425773  0.054497\n",
       "5    -0.092864 -0.369919 -0.277055\n",
       "...        ...       ...       ...\n",
       "996  -1.285877  0.277068  1.562945\n",
       "997   0.149209  0.350022  0.200812\n",
       "998  -0.094531  0.434381  0.528912\n",
       "999   0.087508  1.292354  1.204846\n",
       "1000  0.044007  1.148659  1.104652\n",
       "\n",
       "[1000 rows x 3 columns]"
      ]
     },
     "execution_count": 30,
     "metadata": {},
     "output_type": "execute_result"
    }
   ],
   "source": [
    "data['Y-X'] = data['Y'] - data['X']\n",
    "data"
   ]
  },
  {
   "cell_type": "code",
   "execution_count": 31,
   "metadata": {},
   "outputs": [
    {
     "data": {
      "image/png": "[encoded data removed]",
      "text/plain": [
       "<Figure size 1000x800 with 1 Axes>"
      ]
     },
     "metadata": {},
     "output_type": "display_data"
    }
   ],
   "source": [
    "HW = data\n",
    "ax= HW.plot(kind='scatter',s=1.4,x=\"X\",y=\"Y-X\",figsize=[10,8], title=\"Plot of Y-X\");"
   ]
  },
  {
   "cell_type": "code",
   "execution_count": 27,
   "metadata": {},
   "outputs": [
    {
     "ename": "NameError",
     "evalue": "name 'y_minus_x' is not defined",
     "output_type": "error",
     "traceback": [
      "\u001b[1;31m---------------------------------------------------------------------------\u001b[0m",
      "\u001b[1;31mNameError\u001b[0m                                 Traceback (most recent call last)",
      "Cell \u001b[1;32mIn [27], line 4\u001b[0m\n\u001b[0;32m      1\u001b[0m \u001b[38;5;66;03m# Check Answer\u001b[39;00m\n\u001b[0;32m      2\u001b[0m \u001b[38;5;66;03m#HW=pd.read_csv('data/gauss_R2.csv')\u001b[39;00m\n\u001b[0;32m      3\u001b[0m HW \u001b[38;5;241m=\u001b[39m data\n\u001b[1;32m----> 4\u001b[0m \u001b[38;5;28;01massert\u001b[39;00m y_minus_x(HW) \u001b[38;5;241m==\u001b[39m \u001b[38;5;28;01mNone\u001b[39;00m \n\u001b[0;32m      5\u001b[0m \u001b[38;5;28;01massert\u001b[39;00m HW\u001b[38;5;241m.\u001b[39mshape \u001b[38;5;241m==\u001b[39m (\u001b[38;5;241m1000\u001b[39m, \u001b[38;5;241m3\u001b[39m)\n\u001b[0;32m      6\u001b[0m \u001b[38;5;28;01massert\u001b[39;00m \u001b[38;5;28mall\u001b[39m( HW\u001b[38;5;241m.\u001b[39mcolumns\u001b[38;5;241m.\u001b[39mvalues \u001b[38;5;241m==\u001b[39m array([\u001b[38;5;124m'\u001b[39m\u001b[38;5;124mX\u001b[39m\u001b[38;5;124m'\u001b[39m, \u001b[38;5;124m'\u001b[39m\u001b[38;5;124mX\u001b[39m\u001b[38;5;124m'\u001b[39m, \u001b[38;5;124m'\u001b[39m\u001b[38;5;124mY-X\u001b[39m\u001b[38;5;124m'\u001b[39m]) )\n",
      "\u001b[1;31mNameError\u001b[0m: name 'y_minus_x' is not defined"
     ]
    }
   ],
   "source": [
    "# Check Answer\n",
    "#HW=pd.read_csv('data/gauss_R2.csv')\n",
    "HW = data\n",
    "assert y_minus_x(HW) == None \n",
    "assert HW.shape == (1000, 3)\n",
    "assert all( HW.columns.values == array(['X', 'X', 'Y-X']) )\n",
    "assert sum(abs( array(HW[\"Y-X\"])[0:10] - \\\n",
    "               array([0.36236278,-2.37726552,-0.36501525,0.05449746,-0.27705517,1.80807383,-2.07001209,\n",
    "                      -0.67536514,0.67519959,  0.97277652])   )) < 10**-5\n",
    "\n",
    "# Create Graph\n",
    "ax= HW.plot(kind='scatter',s=1.4,x=\"X\",y=\"Y-X\",figsize=[10,8], title=\"Plot of Y-X\");\n",
    "\n",
    "#\n",
    "# AUTOGRADER T"
   ]
  },
  {
   "cell_type": "code",
   "execution_count": null,
   "metadata": {},
   "outputs": [],
   "source": []
  }
 ],
 "metadata": {
  "kernelspec": {
   "display_name": "Python 3.9.12 ('base')",
   "language": "python",
   "name": "python3"
  },
  "language_info": {
   "codemirror_mode": {
    "name": "ipython",
    "version": 3
   },
   "file_extension": ".py",
   "mimetype": "text/x-python",
   "name": "python",
   "nbconvert_exporter": "python",
   "pygments_lexer": "ipython3",
   "version": "3.9.12"
  },
  "orig_nbformat": 4,
  "vscode": {
   "interpreter": {
    "hash": "e183665aec53617f6a793cb2a69d11e345ff76bb7bc8759926b012c4a43eec49"
   }
  }
 },
 "nbformat": 4,
 "nbformat_minor": 2
}
