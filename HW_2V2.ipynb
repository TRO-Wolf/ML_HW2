{
 "cells": [
  {
   "cell_type": "code",
   "execution_count": null,
   "metadata": {},
   "outputs": [],
   "source": [
    "f, ax = plt.subplots(figsize=(30,24))\n",
    "sns.heatmap(data2.corr(method='spearman'), annot=True)\n",
    "plt.show()"
   ]
  },
  {
   "cell_type": "code",
   "execution_count": 428,
   "metadata": {},
   "outputs": [
    {
     "data": {
      "text/html": [
       "<div>\n",
       "<style scoped>\n",
       "    .dataframe tbody tr th:only-of-type {\n",
       "        vertical-align: middle;\n",
       "    }\n",
       "\n",
       "    .dataframe tbody tr th {\n",
       "        vertical-align: top;\n",
       "    }\n",
       "\n",
       "    .dataframe thead th {\n",
       "        text-align: right;\n",
       "    }\n",
       "</style>\n",
       "<table border=\"1\" class=\"dataframe\">\n",
       "  <thead>\n",
       "    <tr style=\"text-align: right;\">\n",
       "      <th></th>\n",
       "      <th>low to close</th>\n",
       "      <th>low to close 2</th>\n",
       "      <th>Vol</th>\n",
       "      <th>return_1d</th>\n",
       "      <th>return_3d</th>\n",
       "      <th>return_5d</th>\n",
       "      <th>target_1d</th>\n",
       "      <th>target_3d</th>\n",
       "      <th>target_5d</th>\n",
       "      <th>D 3</th>\n",
       "      <th>D 5</th>\n",
       "      <th>D 8</th>\n",
       "      <th>D21 10</th>\n",
       "    </tr>\n",
       "  </thead>\n",
       "  <tbody>\n",
       "    <tr>\n",
       "      <th>low to close</th>\n",
       "      <td>1.000000</td>\n",
       "      <td>0.110281</td>\n",
       "      <td>0.044240</td>\n",
       "      <td>0.583144</td>\n",
       "      <td>0.234924</td>\n",
       "      <td>0.150151</td>\n",
       "      <td>-0.046115</td>\n",
       "      <td>-0.044405</td>\n",
       "      <td>-0.046533</td>\n",
       "      <td>-0.110017</td>\n",
       "      <td>-0.107189</td>\n",
       "      <td>-0.099500</td>\n",
       "      <td>-0.102329</td>\n",
       "    </tr>\n",
       "    <tr>\n",
       "      <th>low to close 2</th>\n",
       "      <td>0.110281</td>\n",
       "      <td>1.000000</td>\n",
       "      <td>-0.177300</td>\n",
       "      <td>-0.045478</td>\n",
       "      <td>0.246004</td>\n",
       "      <td>0.145181</td>\n",
       "      <td>-0.033097</td>\n",
       "      <td>-0.015944</td>\n",
       "      <td>-0.032094</td>\n",
       "      <td>-0.125266</td>\n",
       "      <td>-0.106163</td>\n",
       "      <td>-0.092625</td>\n",
       "      <td>-0.085032</td>\n",
       "    </tr>\n",
       "    <tr>\n",
       "      <th>Vol</th>\n",
       "      <td>0.044240</td>\n",
       "      <td>-0.177300</td>\n",
       "      <td>1.000000</td>\n",
       "      <td>-0.163084</td>\n",
       "      <td>-0.099565</td>\n",
       "      <td>-0.052463</td>\n",
       "      <td>-0.002025</td>\n",
       "      <td>-0.012596</td>\n",
       "      <td>-0.003894</td>\n",
       "      <td>0.038811</td>\n",
       "      <td>0.022184</td>\n",
       "      <td>0.010546</td>\n",
       "      <td>0.020133</td>\n",
       "    </tr>\n",
       "    <tr>\n",
       "      <th>return_1d</th>\n",
       "      <td>0.583144</td>\n",
       "      <td>-0.045478</td>\n",
       "      <td>-0.163084</td>\n",
       "      <td>1.000000</td>\n",
       "      <td>0.518530</td>\n",
       "      <td>0.395105</td>\n",
       "      <td>-0.028120</td>\n",
       "      <td>-0.025957</td>\n",
       "      <td>-0.034015</td>\n",
       "      <td>0.002268</td>\n",
       "      <td>0.001619</td>\n",
       "      <td>0.011644</td>\n",
       "      <td>0.048489</td>\n",
       "    </tr>\n",
       "    <tr>\n",
       "      <th>return_3d</th>\n",
       "      <td>0.234924</td>\n",
       "      <td>0.246004</td>\n",
       "      <td>-0.099565</td>\n",
       "      <td>0.518530</td>\n",
       "      <td>1.000000</td>\n",
       "      <td>0.725838</td>\n",
       "      <td>-0.026460</td>\n",
       "      <td>-0.031469</td>\n",
       "      <td>-0.038685</td>\n",
       "      <td>-0.017178</td>\n",
       "      <td>-0.022142</td>\n",
       "      <td>-0.000765</td>\n",
       "      <td>0.124798</td>\n",
       "    </tr>\n",
       "    <tr>\n",
       "      <th>return_5d</th>\n",
       "      <td>0.150151</td>\n",
       "      <td>0.145181</td>\n",
       "      <td>-0.052463</td>\n",
       "      <td>0.395105</td>\n",
       "      <td>0.725838</td>\n",
       "      <td>1.000000</td>\n",
       "      <td>-0.021946</td>\n",
       "      <td>-0.040323</td>\n",
       "      <td>-0.056019</td>\n",
       "      <td>0.316773</td>\n",
       "      <td>-0.019672</td>\n",
       "      <td>-0.012795</td>\n",
       "      <td>0.244294</td>\n",
       "    </tr>\n",
       "    <tr>\n",
       "      <th>target_1d</th>\n",
       "      <td>-0.046115</td>\n",
       "      <td>-0.033097</td>\n",
       "      <td>-0.002025</td>\n",
       "      <td>-0.028120</td>\n",
       "      <td>-0.026460</td>\n",
       "      <td>-0.021946</td>\n",
       "      <td>1.000000</td>\n",
       "      <td>0.505069</td>\n",
       "      <td>0.396037</td>\n",
       "      <td>-0.000084</td>\n",
       "      <td>0.009739</td>\n",
       "      <td>0.024654</td>\n",
       "      <td>0.009927</td>\n",
       "    </tr>\n",
       "    <tr>\n",
       "      <th>target_3d</th>\n",
       "      <td>-0.044405</td>\n",
       "      <td>-0.015944</td>\n",
       "      <td>-0.012596</td>\n",
       "      <td>-0.025957</td>\n",
       "      <td>-0.031469</td>\n",
       "      <td>-0.040323</td>\n",
       "      <td>0.505069</td>\n",
       "      <td>1.000000</td>\n",
       "      <td>0.725035</td>\n",
       "      <td>-0.018848</td>\n",
       "      <td>-0.000933</td>\n",
       "      <td>0.020713</td>\n",
       "      <td>-0.004989</td>\n",
       "    </tr>\n",
       "    <tr>\n",
       "      <th>target_5d</th>\n",
       "      <td>-0.046533</td>\n",
       "      <td>-0.032094</td>\n",
       "      <td>-0.003894</td>\n",
       "      <td>-0.034015</td>\n",
       "      <td>-0.038685</td>\n",
       "      <td>-0.056019</td>\n",
       "      <td>0.396037</td>\n",
       "      <td>0.725035</td>\n",
       "      <td>1.000000</td>\n",
       "      <td>-0.012919</td>\n",
       "      <td>0.010117</td>\n",
       "      <td>0.016965</td>\n",
       "      <td>0.001683</td>\n",
       "    </tr>\n",
       "    <tr>\n",
       "      <th>D 3</th>\n",
       "      <td>-0.110017</td>\n",
       "      <td>-0.125266</td>\n",
       "      <td>0.038811</td>\n",
       "      <td>0.002268</td>\n",
       "      <td>-0.017178</td>\n",
       "      <td>0.316773</td>\n",
       "      <td>-0.000084</td>\n",
       "      <td>-0.018848</td>\n",
       "      <td>-0.012919</td>\n",
       "      <td>1.000000</td>\n",
       "      <td>0.793842</td>\n",
       "      <td>0.569578</td>\n",
       "      <td>0.882510</td>\n",
       "    </tr>\n",
       "    <tr>\n",
       "      <th>D 5</th>\n",
       "      <td>-0.107189</td>\n",
       "      <td>-0.106163</td>\n",
       "      <td>0.022184</td>\n",
       "      <td>0.001619</td>\n",
       "      <td>-0.022142</td>\n",
       "      <td>-0.019672</td>\n",
       "      <td>0.009739</td>\n",
       "      <td>-0.000933</td>\n",
       "      <td>0.010117</td>\n",
       "      <td>0.793842</td>\n",
       "      <td>1.000000</td>\n",
       "      <td>0.711089</td>\n",
       "      <td>0.902626</td>\n",
       "    </tr>\n",
       "    <tr>\n",
       "      <th>D 8</th>\n",
       "      <td>-0.099500</td>\n",
       "      <td>-0.092625</td>\n",
       "      <td>0.010546</td>\n",
       "      <td>0.011644</td>\n",
       "      <td>-0.000765</td>\n",
       "      <td>-0.012795</td>\n",
       "      <td>0.024654</td>\n",
       "      <td>0.020713</td>\n",
       "      <td>0.016965</td>\n",
       "      <td>0.569578</td>\n",
       "      <td>0.711089</td>\n",
       "      <td>1.000000</td>\n",
       "      <td>0.808078</td>\n",
       "    </tr>\n",
       "    <tr>\n",
       "      <th>D21 10</th>\n",
       "      <td>-0.102329</td>\n",
       "      <td>-0.085032</td>\n",
       "      <td>0.020133</td>\n",
       "      <td>0.048489</td>\n",
       "      <td>0.124798</td>\n",
       "      <td>0.244294</td>\n",
       "      <td>0.009927</td>\n",
       "      <td>-0.004989</td>\n",
       "      <td>0.001683</td>\n",
       "      <td>0.882510</td>\n",
       "      <td>0.902626</td>\n",
       "      <td>0.808078</td>\n",
       "      <td>1.000000</td>\n",
       "    </tr>\n",
       "  </tbody>\n",
       "</table>\n",
       "</div>"
      ],
      "text/plain": [
       "                low to close  low to close 2       Vol  return_1d  return_3d  return_5d  target_1d  target_3d  target_5d       D 3       D 5       D 8    D21 10\n",
       "low to close        1.000000        0.110281  0.044240   0.583144   0.234924   0.150151  -0.046115  -0.044405  -0.046533 -0.110017 -0.107189 -0.099500 -0.102329\n",
       "low to close 2      0.110281        1.000000 -0.177300  -0.045478   0.246004   0.145181  -0.033097  -0.015944  -0.032094 -0.125266 -0.106163 -0.092625 -0.085032\n",
       "Vol                 0.044240       -0.177300  1.000000  -0.163084  -0.099565  -0.052463  -0.002025  -0.012596  -0.003894  0.038811  0.022184  0.010546  0.020133\n",
       "return_1d           0.583144       -0.045478 -0.163084   1.000000   0.518530   0.395105  -0.028120  -0.025957  -0.034015  0.002268  0.001619  0.011644  0.048489\n",
       "return_3d           0.234924        0.246004 -0.099565   0.518530   1.000000   0.725838  -0.026460  -0.031469  -0.038685 -0.017178 -0.022142 -0.000765  0.124798\n",
       "return_5d           0.150151        0.145181 -0.052463   0.395105   0.725838   1.000000  -0.021946  -0.040323  -0.056019  0.316773 -0.019672 -0.012795  0.244294\n",
       "target_1d          -0.046115       -0.033097 -0.002025  -0.028120  -0.026460  -0.021946   1.000000   0.505069   0.396037 -0.000084  0.009739  0.024654  0.009927\n",
       "target_3d          -0.044405       -0.015944 -0.012596  -0.025957  -0.031469  -0.040323   0.505069   1.000000   0.725035 -0.018848 -0.000933  0.020713 -0.004989\n",
       "target_5d          -0.046533       -0.032094 -0.003894  -0.034015  -0.038685  -0.056019   0.396037   0.725035   1.000000 -0.012919  0.010117  0.016965  0.001683\n",
       "D 3                -0.110017       -0.125266  0.038811   0.002268  -0.017178   0.316773  -0.000084  -0.018848  -0.012919  1.000000  0.793842  0.569578  0.882510\n",
       "D 5                -0.107189       -0.106163  0.022184   0.001619  -0.022142  -0.019672   0.009739  -0.000933   0.010117  0.793842  1.000000  0.711089  0.902626\n",
       "D 8                -0.099500       -0.092625  0.010546   0.011644  -0.000765  -0.012795   0.024654   0.020713   0.016965  0.569578  0.711089  1.000000  0.808078\n",
       "D21 10             -0.102329       -0.085032  0.020133   0.048489   0.124798   0.244294   0.009927  -0.004989   0.001683  0.882510  0.902626  0.808078  1.000000"
      ]
     },
     "execution_count": 428,
     "metadata": {},
     "output_type": "execute_result"
    }
   ],
   "source": [
    "data.corr(method='spearman')"
   ]
  },
  {
   "cell_type": "code",
   "execution_count": null,
   "metadata": {},
   "outputs": [],
   "source": [
    "#Ignore everything above this cell lol"
   ]
  },
  {
   "cell_type": "code",
   "execution_count": null,
   "metadata": {},
   "outputs": [],
   "source": []
  },
  {
   "cell_type": "code",
   "execution_count": 2,
   "metadata": {},
   "outputs": [],
   "source": [
    "import warnings\n",
    "warnings.filterwarnings('ignore')"
   ]
  },
  {
   "cell_type": "code",
   "execution_count": 13,
   "metadata": {},
   "outputs": [],
   "source": [
    "import matplotlib.pyplot as plt\n",
    "import numpy as np\n",
    "import pandas as pd\n",
    "\n",
    "from sklearn.cluster import KMeans\n",
    "from sklearn.datasets import make_blobs, load_digits\n",
    "from sklearn import metrics\n",
    "\n",
    "from sklearn.datasets._samples_generator import  make_blobs\n",
    "from scipy.spatial.distance import cdist\n",
    "\n",
    "from yellowbrick.cluster import KElbowVisualizer\n",
    "\n",
    "from sklearn.metrics import confusion_matrix, accuracy_score\n",
    "\n",
    "\n",
    "\n",
    "\n",
    "\n",
    "X, y_true = make_blobs(n_samples=300, centers=4,\n",
    "                       cluster_std=0.60, random_state=0)\n",
    "\n",
    "\n",
    "# TODO determine the best k for k-means\n",
    "# TODO calculate accuracy for best K\n",
    "# TODO draw a confusion matrix"
   ]
  },
  {
   "cell_type": "code",
   "execution_count": 14,
   "metadata": {},
   "outputs": [
    {
     "data": {
      "text/plain": [
       "<matplotlib.collections.PathCollection at 0x1f614795e20>"
      ]
     },
     "execution_count": 14,
     "metadata": {},
     "output_type": "execute_result"
    },
    {
     "data": {
      "image/png": "[encoded data removed]",
      "text/plain": [
       "<Figure size 576x396 with 1 Axes>"
      ]
     },
     "metadata": {},
     "output_type": "display_data"
    }
   ],
   "source": [
    "plt.scatter(X[:, 0], X[:, 1], s=50)"
   ]
  },
  {
   "cell_type": "code",
   "execution_count": null,
   "metadata": {},
   "outputs": [],
   "source": [
    "from sklearn.metrics import pairwise_distances_argmin\n",
    "\n",
    "def find_clusters(X, n_clusters, rseed=2):\n",
    "    # 1. Randomly select points from data to be centers\n",
    "    rng = np.random.RandomState(rseed)\n",
    "    i = rng.permutation(X.shape[0])[:n_clusters]\n",
    "    centers = X[i]\n",
    "    \n",
    "    while True:\n",
    "        # TODO Starts Here\n",
    "        # 2a. Assign labels based on closest center\n",
    "        # pairwise_distances_argmin compute the minimum distances between one point and a set of points.\n",
    "        # Here is the URL for pairwise_distances_argmin https://scikit-learn.org/stable/modules/generated/sklearn.metrics.pairwise_distances_argmin.html\n",
    "        labels = pairwise_distances_argmin('''TODO calculate distance between XXX''', '''and XXX''')\n",
    "\n",
    "        # 2b. Find new centers from means of points\n",
    "        new_centers = np.array([X[labels == i].mean(0)\n",
    "                                # n_clusters is the function input, # of clusters\n",
    "                                for i in range(n_clusters)])\n",
    "        \n",
    "        # 2c. Check for convergence\n",
    "        # Need to check if the K-means should stop\n",
    "        if np.all('''# TODO check if centers stop updating#'''):\n",
    "                break\n",
    "        centers = '''# TODO update centers#'''\n",
    "        \n",
    "        # TODO Ends here\n",
    "\n",
    "    return centers, labels\n",
    "\n",
    "centers, labels = find_clusters(X, 4)\n",
    "plt.scatter(X[:, 0], X[:, 1], c=labels,\n",
    "            s=50, cmap='viridis');"
   ]
  },
  {
   "cell_type": "code",
   "execution_count": 14,
   "metadata": {},
   "outputs": [
    {
     "data": {
      "text/plain": [
       "array([1, 3, 0, 3, 1, 1, 2, 0, 3, 3, 2, 3, 0, 3, 1, 0, 0, 1, 2, 2, 1, 1,\n",
       "       0, 2, 2, 0, 1, 0, 2, 0, 3, 3, 0, 3, 3, 3, 3, 3, 2, 1, 0, 2, 0, 0,\n",
       "       2, 2, 3, 2, 3, 1, 2, 1, 3, 1, 1, 2, 3, 2, 3, 1, 3, 0, 3, 2, 2, 2,\n",
       "       3, 1, 3, 2, 0, 2, 3, 2, 2, 3, 2, 0, 1, 3, 1, 0, 1, 1, 3, 0, 1, 0,\n",
       "       3, 3, 0, 1, 3, 2, 2, 0, 1, 1, 0, 2, 3, 1, 3, 1, 0, 1, 1, 0, 3, 0,\n",
       "       2, 2, 1, 3, 1, 0, 3, 1, 1, 0, 2, 1, 2, 1, 1, 1, 1, 2, 1, 2, 3, 2,\n",
       "       2, 1, 3, 2, 2, 3, 0, 3, 3, 2, 0, 2, 0, 2, 3, 0, 3, 3, 3, 0, 3, 0,\n",
       "       1, 2, 3, 2, 1, 0, 3, 0, 0, 1, 0, 2, 2, 0, 1, 0, 0, 3, 1, 0, 2, 3,\n",
       "       1, 1, 0, 2, 1, 0, 2, 2, 0, 0, 0, 0, 1, 3, 0, 2, 0, 0, 2, 2, 2, 0,\n",
       "       2, 3, 0, 2, 1, 2, 0, 3, 2, 3, 0, 3, 0, 2, 0, 0, 3, 2, 2, 1, 1, 0,\n",
       "       3, 1, 1, 2, 1, 2, 0, 3, 3, 0, 0, 3, 0, 1, 2, 0, 1, 2, 3, 2, 1, 0,\n",
       "       1, 3, 3, 3, 3, 2, 2, 3, 0, 2, 1, 0, 2, 2, 2, 1, 1, 3, 0, 0, 2, 1,\n",
       "       3, 2, 0, 3, 0, 1, 1, 2, 2, 0, 1, 1, 1, 0, 3, 3, 1, 1, 0, 1, 1, 1,\n",
       "       3, 2, 3, 0, 1, 1, 3, 3, 3, 1, 1, 0, 3, 2])"
      ]
     },
     "execution_count": 14,
     "metadata": {},
     "output_type": "execute_result"
    }
   ],
   "source": [
    "y_true"
   ]
  },
  {
   "cell_type": "code",
   "execution_count": 7,
   "metadata": {},
   "outputs": [
    {
     "data": {
      "text/plain": [
       "array([[ 8.36856841e-01,  2.13635938e+00],\n",
       "       [-1.41365810e+00,  7.40962324e+00],\n",
       "       [ 1.15521298e+00,  5.09961887e+00],\n",
       "       [-1.01861632e+00,  7.81491465e+00],\n",
       "       [ 1.27135141e+00,  1.89254207e+00],\n",
       "       [ 3.43761754e+00,  2.61654166e-01],\n",
       "       [-1.80822253e+00,  1.59701749e+00],\n",
       "       [ 1.41372442e+00,  4.38117707e+00],\n",
       "       [-2.04932168e-01,  8.43209665e+00],\n",
       "       [-7.11099611e-01,  8.66043846e+00],\n",
       "       [-1.71237268e+00,  2.77780226e+00],\n",
       "       [-2.67000792e+00,  8.35389140e+00],\n",
       "       [ 1.24258802e+00,  4.50399192e+00],\n",
       "       [-2.22783649e+00,  6.89479938e+00],\n",
       "       [ 1.45513831e+00, -2.91989981e-02],\n",
       "       [ 4.53791789e-01,  3.95647753e+00],\n",
       "       [ 1.06923853e+00,  4.53068484e+00],\n",
       "       [ 2.56936589e+00,  5.07048304e-01],\n",
       "       [-1.06690610e+00,  3.13165795e+00],\n",
       "       [-1.07859101e+00,  2.20451529e+00],\n",
       "       [ 2.71506328e+00,  1.29082190e+00],\n",
       "       [ 1.77710994e+00,  1.18655254e+00],\n",
       "       [ 7.34363910e-01,  5.03725437e+00],\n",
       "       [-1.99648151e+00,  2.85164868e+00],\n",
       "       [-1.91828017e+00,  2.60516867e+00],\n",
       "       [-5.55523811e-01,  4.69595848e+00],\n",
       "       [ 1.69747910e+00,  8.66123282e-01],\n",
       "       [ 5.94762432e-01,  4.70964730e+00],\n",
       "       [-2.88024255e+00,  2.30437816e+00],\n",
       "       [ 1.86725632e-01,  4.02683656e+00],\n",
       "       [-5.13333436e-01,  7.87437368e+00],\n",
       "       [-2.05701103e+00,  7.37851598e+00],\n",
       "       [ 1.87271752e+00,  4.18069237e+00],\n",
       "       [-1.13121396e+00,  6.76652230e+00],\n",
       "       [-1.64428957e+00,  7.94095139e+00],\n",
       "       [-2.41933824e+00,  7.43952498e+00],\n",
       "       [-2.01606928e+00,  7.48420129e+00],\n",
       "       [-2.62142780e+00,  7.98635066e+00],\n",
       "       [-2.20299950e+00,  2.47947561e+00],\n",
       "       [ 1.66382237e+00,  6.63091635e-01],\n",
       "       [ 6.69786996e-01,  3.59540802e+00],\n",
       "       [-1.98539037e+00,  2.05520738e+00],\n",
       "       [-4.74920358e-02,  5.47425256e+00],\n",
       "       [ 1.54462126e+00,  4.21078127e+00],\n",
       "       [-1.70200643e+00,  2.46098693e+00],\n",
       "       [-1.02192525e+00,  2.76820711e+00],\n",
       "       [-1.37842552e+00,  8.10269597e+00],\n",
       "       [-1.55220688e+00,  2.74574995e+00],\n",
       "       [-1.47904303e+00,  7.56915836e+00],\n",
       "       [ 1.98894313e+00,  1.50976729e+00],\n",
       "       [-1.94972418e+00,  3.48383870e+00],\n",
       "       [ 2.45509737e+00,  6.21231788e-01],\n",
       "       [-8.94327882e-01,  7.61714473e+00],\n",
       "       [ 1.69687788e+00,  7.54910622e-01],\n",
       "       [ 1.75644805e+00,  2.05538289e+00],\n",
       "       [-1.11064012e+00,  2.82213820e+00],\n",
       "       [-4.15017659e-02,  7.80870276e+00],\n",
       "       [-1.14091533e+00,  1.97550822e+00],\n",
       "       [-1.80634968e+00,  7.72830656e+00],\n",
       "       [ 1.39263752e+00,  9.28962707e-01],\n",
       "       [-2.25698670e+00,  7.30207720e+00],\n",
       "       [ 5.71670482e-01,  4.32288566e+00],\n",
       "       [-1.54994580e+00,  9.28293222e+00],\n",
       "       [-1.03819212e+00,  2.95323761e+00],\n",
       "       [-2.10956676e+00,  3.10677258e+00],\n",
       "       [-1.18652985e+00,  2.78427720e+00],\n",
       "       [-2.45809975e+00,  7.51178724e+00],\n",
       "       [ 2.36960214e+00,  9.50716912e-01],\n",
       "       [-2.66676007e+00,  7.84766052e+00],\n",
       "       [-1.49720702e+00,  3.21418433e+00],\n",
       "       [ 1.32222457e+00,  4.17880807e+00],\n",
       "       [-4.87271301e-01,  3.32858293e+00],\n",
       "       [-1.03718771e+00,  8.06300134e+00],\n",
       "       [-1.60496819e+00,  2.97425420e+00],\n",
       "       [-1.50372568e+00,  1.92385320e+00],\n",
       "       [-7.85412206e-01,  8.45312331e+00],\n",
       "       [-1.75783190e+00,  2.97449321e+00],\n",
       "       [ 1.19008992e+00,  4.72773123e+00],\n",
       "       [ 2.14043942e+00,  7.06066610e-01],\n",
       "       [-1.03540116e+00,  8.20559195e+00],\n",
       "       [ 1.25471244e+00,  8.96331565e-02],\n",
       "       [ 5.95676822e-01,  4.08614263e+00],\n",
       "       [ 1.27955338e+00,  1.05789418e+00],\n",
       "       [ 1.72955064e+00,  1.14729369e+00],\n",
       "       [-9.49041610e-01,  8.46424331e+00],\n",
       "       [ 9.35325115e-01,  5.33179296e+00],\n",
       "       [ 2.36923352e+00,  7.94735861e-01],\n",
       "       [ 4.28576743e-01,  4.97399710e+00],\n",
       "       [-2.04758277e+00,  6.65428520e+00],\n",
       "       [-1.45672617e+00,  7.48669893e+00],\n",
       "       [ 5.29417185e-01,  3.80792420e+00],\n",
       "       [ 1.78194802e+00,  9.08151155e-01],\n",
       "       [-1.95575053e+00,  8.61631686e+00],\n",
       "       [-1.74572014e+00,  3.01190457e+00],\n",
       "       [-1.17979111e+00,  3.12767494e+00],\n",
       "       [ 1.16411070e+00,  3.79132988e+00],\n",
       "       [ 1.36155806e+00,  1.36638252e+00],\n",
       "       [ 2.60137487e+00,  1.08799459e+00],\n",
       "       [ 2.72396035e-01,  5.46996004e+00],\n",
       "       [-3.12240736e+00,  3.28167398e+00],\n",
       "       [-5.88085172e-01,  8.61427320e+00],\n",
       "       [ 1.66909648e+00, -4.36378231e-01],\n",
       "       [-6.82774903e-01,  7.67490317e+00],\n",
       "       [ 2.36790645e+00,  5.52190878e-01],\n",
       "       [ 1.05241733e+00,  4.54498095e+00],\n",
       "       [ 2.22707373e+00,  1.26296996e+00],\n",
       "       [ 2.43934644e+00, -7.25099666e-02],\n",
       "       [ 1.34471770e+00,  4.85711133e+00],\n",
       "       [-1.31454942e+00,  6.83904013e+00],\n",
       "       [ 9.82570091e-01,  5.37530962e+00],\n",
       "       [-1.06295223e+00,  2.20755388e+00],\n",
       "       [-1.60712495e+00,  3.56452854e+00],\n",
       "       [ 1.57322172e+00,  4.83933793e-01],\n",
       "       [-2.17851338e+00,  8.08585131e+00],\n",
       "       [ 1.83375842e+00,  7.54036153e-01],\n",
       "       [ 2.10616050e+00,  3.49513189e+00],\n",
       "       [-1.64338755e+00,  7.52691964e+00],\n",
       "       [ 1.10550448e+00,  1.26389129e+00],\n",
       "       [ 1.61152972e+00,  1.82347242e+00],\n",
       "       [ 4.59534668e-01,  5.44982630e+00],\n",
       "       [-5.38023054e-01,  3.01641891e+00],\n",
       "       [ 1.67841499e+00,  6.09047389e-01],\n",
       "       [-1.01214966e+00,  3.60254338e+00],\n",
       "       [ 1.34195197e+00,  5.93573847e-01],\n",
       "       [ 1.42811550e+00,  1.62435083e+00],\n",
       "       [ 2.04505527e+00,  1.12515470e+00],\n",
       "       [ 1.67280531e+00,  6.59300571e-01],\n",
       "       [-1.35863899e+00,  2.32200809e+00],\n",
       "       [ 1.13078931e+00,  9.35620856e-01],\n",
       "       [-1.73896306e+00,  1.94799775e+00],\n",
       "       [-3.40258925e-01,  8.16733925e+00],\n",
       "       [-1.63793622e+00,  2.43329317e+00],\n",
       "       [-1.68754414e+00,  2.24107546e+00],\n",
       "       [ 2.43040639e+00, -6.35709334e-02],\n",
       "       [-1.37998039e+00,  7.18503804e+00],\n",
       "       [-1.25245465e+00,  2.33911505e+00],\n",
       "       [-2.39482483e+00,  3.39806103e+00],\n",
       "       [-2.09183352e+00,  7.48142543e+00],\n",
       "       [ 4.88382309e-01,  3.26801777e+00],\n",
       "       [-5.39428614e-01,  7.45631776e+00],\n",
       "       [-2.59201821e+00,  8.07635945e+00],\n",
       "       [-1.04656513e+00,  2.96483837e+00],\n",
       "       [ 1.25566754e+00,  3.38204112e+00],\n",
       "       [-1.62150422e+00,  4.27191636e+00],\n",
       "       [ 1.86922139e+00,  5.44132083e+00],\n",
       "       [-1.76404140e+00,  2.22222995e+00],\n",
       "       [-1.38181918e+00,  7.28761248e+00],\n",
       "       [ 7.93137001e-03,  4.17614316e+00],\n",
       "       [-1.10298500e+00,  7.30222786e+00],\n",
       "       [-1.79351372e+00,  7.58086944e+00],\n",
       "       [-1.51176949e+00,  7.94426307e+00],\n",
       "       [ 9.59360742e-01,  4.56078645e+00],\n",
       "       [-6.01337393e-01,  6.29994922e+00],\n",
       "       [ 2.24592863e-01,  4.77028154e+00],\n",
       "       [ 1.56724897e+00,  1.78090633e-02],\n",
       "       [-1.03395259e+00,  2.92105785e+00],\n",
       "       [-9.22268640e-01,  8.09888579e+00],\n",
       "       [-1.88609638e+00,  2.24834407e+00],\n",
       "       [ 1.86873582e+00,  9.56103760e-01],\n",
       "       [ 1.10123507e+00,  4.88977075e+00],\n",
       "       [-1.93213725e+00,  8.30643453e+00],\n",
       "       [ 6.70478769e-01,  4.04094275e+00],\n",
       "       [ 7.43873988e-01,  4.12240568e+00],\n",
       "       [ 1.64003761e+00,  1.81948989e+00],\n",
       "       [ 8.15468056e-01,  4.78526116e+00],\n",
       "       [-2.63274574e+00,  2.63109786e+00],\n",
       "       [-9.61076361e-01,  1.27407596e+00],\n",
       "       [ 2.13979079e-01,  4.88542535e+00],\n",
       "       [ 1.43472182e+00,  1.30662037e+00],\n",
       "       [ 1.21387411e+00,  3.64795042e+00],\n",
       "       [ 1.08272576e+00,  4.06271877e+00],\n",
       "       [-1.22605234e+00,  8.29620146e+00],\n",
       "       [ 1.48170052e+00,  6.90074595e-01],\n",
       "       [ 1.89593761e+00,  5.18540259e+00],\n",
       "       [-1.32356154e+00,  4.13050840e+00],\n",
       "       [-1.14989863e+00,  7.89325283e+00],\n",
       "       [ 2.46915842e+00,  1.67877140e+00],\n",
       "       [ 2.31102276e+00,  1.30380848e+00],\n",
       "       [ 5.72793810e-01,  4.08805543e+00],\n",
       "       [-9.67794989e-01,  3.12186125e+00],\n",
       "       [ 2.62492001e+00,  9.50194405e-01],\n",
       "       [ 1.68353782e+00,  4.19583243e+00],\n",
       "       [-2.22131717e+00,  2.73050691e+00],\n",
       "       [-1.57846247e+00,  3.03445802e+00],\n",
       "       [ 8.15155229e-02,  4.56742235e+00],\n",
       "       [ 1.43289271e+00,  4.37679234e+00],\n",
       "       [ 1.06269622e+00,  5.17635143e+00],\n",
       "       [ 7.67522789e-01,  4.39759671e+00],\n",
       "       [ 2.47019077e+00,  1.31451315e+00],\n",
       "       [-1.73163168e+00,  7.16447286e+00],\n",
       "       [ 3.47138300e-01,  3.45177657e+00],\n",
       "       [-1.00140436e+00,  2.84881778e+00],\n",
       "       [ 1.01618041e+00,  4.48527047e+00],\n",
       "       [ 5.59529363e-01,  4.21400660e+00],\n",
       "       [-2.11821046e+00,  2.03478126e+00],\n",
       "       [-1.36219420e+00,  2.38333321e+00],\n",
       "       [-2.78366586e+00,  2.99211541e+00],\n",
       "       [ 1.65225163e+00,  3.65582842e+00],\n",
       "       [-1.93960658e+00,  2.18943582e+00],\n",
       "       [-1.81487687e+00,  7.97832190e+00],\n",
       "       [ 1.20212540e+00,  3.64414685e+00],\n",
       "       [-9.69200946e-01,  3.26721702e+00],\n",
       "       [ 1.86985974e+00, -1.07938624e-01],\n",
       "       [-1.80701134e+00,  2.06773859e+00],\n",
       "       [ 1.21767506e+00,  3.89290127e+00],\n",
       "       [-1.48368917e+00,  6.00777418e+00],\n",
       "       [-1.56387985e+00,  2.85349910e+00],\n",
       "       [-6.86210297e-01,  8.68285664e+00],\n",
       "       [ 1.07627418e+00,  4.68480619e+00],\n",
       "       [-9.75986627e-01,  6.73761577e+00],\n",
       "       [ 1.37964693e+00,  4.54826443e+00],\n",
       "       [-1.64129611e+00,  2.68097255e+00],\n",
       "       [-1.84892963e-03,  4.58145668e+00],\n",
       "       [ 1.71444449e+00,  5.02521524e+00],\n",
       "       [-1.40524304e+00,  7.72611315e+00],\n",
       "       [-7.08184904e-01,  2.50421275e+00],\n",
       "       [-8.85798374e-01,  2.64585078e+00],\n",
       "       [ 1.98436909e+00,  4.89556738e-01],\n",
       "       [ 2.95195825e+00, -3.44327355e-01],\n",
       "       [ 4.31891060e-01,  4.33495456e+00],\n",
       "       [-1.86621694e+00,  7.62549400e+00],\n",
       "       [ 2.52706430e+00,  6.17812202e-01],\n",
       "       [ 2.04067185e+00,  4.54845114e-01],\n",
       "       [-2.58043836e+00,  3.18844294e+00],\n",
       "       [ 1.61990909e+00,  6.76452867e-02],\n",
       "       [-2.58802708e+00,  3.13117134e+00],\n",
       "       [ 4.43598630e-01,  3.11530945e+00],\n",
       "       [-4.56773649e-01,  7.30600872e+00],\n",
       "       [-1.12867566e+00,  7.80509789e+00],\n",
       "       [ 2.13003529e+00,  5.19209620e+00],\n",
       "       [ 1.00372519e+00,  4.19147702e+00],\n",
       "       [-1.39346767e+00,  8.74641672e+00],\n",
       "       [ 7.28098690e-01,  3.85531444e+00],\n",
       "       [ 8.93499638e-01,  1.01093082e+00],\n",
       "       [-1.10782972e+00,  2.92014479e+00],\n",
       "       [ 7.89338559e-01,  4.33748653e+00],\n",
       "       [ 1.97553917e+00,  7.18989132e-01],\n",
       "       [-1.24902582e+00,  3.08533972e+00],\n",
       "       [-1.07768797e+00,  8.88106128e+00],\n",
       "       [-1.86849125e+00,  3.07982487e+00],\n",
       "       [ 2.76808540e+00,  1.08782923e+00],\n",
       "       [ 2.77180174e-01,  4.84428322e+00],\n",
       "       [ 3.41085289e+00,  8.72309369e-01],\n",
       "       [-1.58084155e+00,  7.55307742e+00],\n",
       "       [-1.53027550e+00,  7.70542113e+00],\n",
       "       [-1.82455840e+00,  7.35958960e+00],\n",
       "       [-1.68568257e+00,  7.95339446e+00],\n",
       "       [-1.65104622e+00,  3.44598961e+00],\n",
       "       [-1.30440901e+00,  3.00311934e+00],\n",
       "       [-7.30698168e-01,  6.24208856e+00],\n",
       "       [ 2.40615694e+00,  4.87047502e+00],\n",
       "       [-1.53631328e+00,  3.01443916e+00],\n",
       "       [ 1.48859977e+00,  6.51633844e-01],\n",
       "       [ 5.14320434e-01,  4.62733684e+00],\n",
       "       [-1.81469750e+00,  3.29009724e+00],\n",
       "       [-1.93731055e+00,  3.91361274e+00],\n",
       "       [-6.14907097e-01,  3.94963585e+00],\n",
       "       [ 2.03169783e+00,  1.96807561e-01],\n",
       "       [ 2.14917144e+00,  1.03697228e+00],\n",
       "       [-1.36999388e+00,  7.76953035e+00],\n",
       "       [ 9.14338767e-01,  4.55014643e+00],\n",
       "       [ 3.33818506e-01,  4.93645836e+00],\n",
       "       [-2.15968109e+00,  3.41003096e+00],\n",
       "       [ 1.36678633e+00,  6.34971633e-01],\n",
       "       [-5.71099336e-01,  8.13306058e+00],\n",
       "       [-1.00552592e+00,  3.08400540e+00],\n",
       "       [ 1.49493180e+00,  3.85848832e+00],\n",
       "       [-5.90447667e-01,  7.69493053e+00],\n",
       "       [ 7.15177948e-01,  5.41334556e+00],\n",
       "       [ 2.11390250e+00,  1.24743587e+00],\n",
       "       [ 1.20083098e+00,  6.01671730e-01],\n",
       "       [-2.54576750e+00,  3.15025055e+00],\n",
       "       [-1.95866665e+00,  2.43008647e+00],\n",
       "       [ 2.33812285e+00,  3.43116792e+00],\n",
       "       [ 3.35320909e+00,  1.69958043e+00],\n",
       "       [ 1.84287117e+00,  7.26928839e-02],\n",
       "       [ 1.32000621e+00,  1.40428145e+00],\n",
       "       [ 2.09680545e+00,  4.84741412e+00],\n",
       "       [-1.24307904e+00,  8.15166254e+00],\n",
       "       [-1.85908090e+00,  7.78874716e+00],\n",
       "       [ 2.74666646e+00,  1.54543482e+00],\n",
       "       [ 2.60778282e+00,  1.08890025e+00],\n",
       "       [ 1.65991049e+00,  3.56289184e+00],\n",
       "       [ 2.35151259e+00,  8.28001297e-01],\n",
       "       [ 2.22322228e+00,  8.38773426e-01],\n",
       "       [ 3.22881491e+00,  1.13171965e+00],\n",
       "       [-1.55876720e+00,  7.24816210e+00],\n",
       "       [-6.46956784e-01,  3.42941343e+00],\n",
       "       [-1.32688818e+00,  8.51530794e+00],\n",
       "       [ 9.17198564e-01,  3.90570036e+00],\n",
       "       [ 2.29469533e+00, -7.65891994e-01],\n",
       "       [ 1.81559810e+00,  1.11969719e+00],\n",
       "       [-1.12016775e+00,  7.11031582e+00],\n",
       "       [-1.65507124e+00,  8.61416749e+00],\n",
       "       [-1.27567815e+00,  7.96776461e+00],\n",
       "       [ 1.97369770e+00,  1.57979848e+00],\n",
       "       [ 2.51834185e+00,  1.39176615e+00],\n",
       "       [ 4.38990142e-01,  4.53592883e+00],\n",
       "       [ 3.69478657e-01,  7.79110522e+00],\n",
       "       [-1.79145759e+00,  2.74966896e+00]])"
      ]
     },
     "execution_count": 7,
     "metadata": {},
     "output_type": "execute_result"
    }
   ],
   "source": [
    "X"
   ]
  },
  {
   "cell_type": "code",
   "execution_count": 10,
   "metadata": {},
   "outputs": [
    {
     "data": {
      "text/plain": [
       "(1797, 64)"
      ]
     },
     "execution_count": 10,
     "metadata": {},
     "output_type": "execute_result"
    }
   ],
   "source": [
    "digits.data.shape"
   ]
  },
  {
   "cell_type": "code",
   "execution_count": 15,
   "metadata": {},
   "outputs": [
    {
     "name": "stdout",
     "output_type": "stream",
     "text": [
      "(1797, 64)\n",
      "[[ 0.  0.  5. 13.  9.  1.  0.  0.]\n",
      " [ 0.  0. 13. 15. 10. 15.  5.  0.]\n",
      " [ 0.  3. 15.  2.  0. 11.  8.  0.]\n",
      " [ 0.  4. 12.  0.  0.  8.  8.  0.]\n",
      " [ 0.  5.  8.  0.  0.  9.  8.  0.]\n",
      " [ 0.  4. 11.  0.  1. 12.  7.  0.]\n",
      " [ 0.  2. 14.  5. 10. 12.  0.  0.]\n",
      " [ 0.  0.  6. 13. 10.  0.  0.  0.]]\n",
      "(8, 8)\n"
     ]
    }
   ],
   "source": [
    "from sklearn.datasets import load_digits\n",
    "digits = load_digits()\n",
    "print(digits.data.shape)\n",
    "print(digits['images'][0])\n",
    "# this will print (8*8). That is the reason why we will have 64=8*8 dimensions\n",
    "print(digits['images'][0].shape)"
   ]
  },
  {
   "cell_type": "code",
   "execution_count": 17,
   "metadata": {},
   "outputs": [
    {
     "data": {
      "text/plain": [
       "(1797,)"
      ]
     },
     "execution_count": 17,
     "metadata": {},
     "output_type": "execute_result"
    }
   ],
   "source": [
    "digits.target.shape"
   ]
  },
  {
   "cell_type": "code",
   "execution_count": 6,
   "metadata": {},
   "outputs": [
    {
     "name": "stderr",
     "output_type": "stream",
     "text": [
      "c:\\Users\\johnh\\anaconda3\\lib\\site-packages\\sklearn\\cluster\\_kmeans.py:1332: UserWarning: KMeans is known to have a memory leak on Windows with MKL, when there are less chunks than available threads. You can avoid it by setting the environment variable OMP_NUM_THREADS=8.\n",
      "  warnings.warn(\n"
     ]
    },
    {
     "data": {
      "text/plain": [
       "(10, 64)"
      ]
     },
     "execution_count": 6,
     "metadata": {},
     "output_type": "execute_result"
    }
   ],
   "source": [
    "kmeans = KMeans(n_clusters=10, random_state=0)\n",
    "clusters = kmeans.fit_predict(digits.data)\n",
    "kmeans.cluster_centers_.shape"
   ]
  },
  {
   "cell_type": "code",
   "execution_count": 7,
   "metadata": {},
   "outputs": [
    {
     "data": {
      "image/png": "[encoded data removed]",
      "text/plain": [
       "<Figure size 576x216 with 10 Axes>"
      ]
     },
     "metadata": {},
     "output_type": "display_data"
    }
   ],
   "source": [
    "# print Centroid Image\n",
    "fig, ax = plt.subplots(2, 5, figsize=(8, 3))\n",
    "# 10 points, each point has a 8*8 center\n",
    "centers = kmeans.cluster_centers_.reshape(10, 8, 8)\n",
    "# print centers\n",
    "for axi, center in zip(ax.flat, centers):\n",
    "    # we do not want to set ticks, # on x and y axes\n",
    "    # try to comment this line and see result\n",
    "    axi.set(xticks=[], yticks=[])\n",
    "    # imshow Display an image, i.e. data on a 2D regular raster.\n",
    "    axi.imshow(center, cmap=plt.cm.binary)"
   ]
  },
  {
   "cell_type": "code",
   "execution_count": 8,
   "metadata": {},
   "outputs": [
    {
     "name": "stdout",
     "output_type": "stream",
     "text": [
      "(1797,)\n",
      "[0 8 8 ... 8 9 9]\n"
     ]
    }
   ],
   "source": [
    "# prepare our predictions\n",
    "from scipy.stats import mode\n",
    "\n",
    "#        create a zero matrix with the same shape\n",
    "labels = np.zeros_like(clusters)\n",
    "for i in range(10):\n",
    "    # this is similar to another for loop to check every element of clusters\n",
    "    # group all the elements of clusters == i, then assign these elements to mask\n",
    "    mask = (clusters == i)\n",
    "    labels[mask] = mode(digits.target[mask])[0]\n",
    "    \n",
    "print(labels.shape)\n",
    "print(labels)"
   ]
  },
  {
   "cell_type": "code",
   "execution_count": null,
   "metadata": {},
   "outputs": [],
   "source": []
  },
  {
   "cell_type": "code",
   "execution_count": null,
   "metadata": {},
   "outputs": [],
   "source": [
    "# prepare our predictions\n",
    "from scipy.stats import mode\n",
    "\n",
    "#        create a zero matrix with the same shape\n",
    "labels = np.zeros_like(clusters)\n",
    "for i in range(301):\n",
    "    # this is similar to another for loop to check every element of clusters\n",
    "    # group all the elements of clusters == i, then assign these elements to mask\n",
    "    mask = (clusters == i)\n",
    "    labels[mask] = mode(y_true[mask])[0]\n",
    "    \n",
    "print(labels.shape)\n",
    "print(labels)"
   ]
  },
  {
   "cell_type": "code",
   "execution_count": null,
   "metadata": {},
   "outputs": [],
   "source": [
    "distortions = []"
   ]
  },
  {
   "cell_type": "code",
   "execution_count": 11,
   "metadata": {},
   "outputs": [
    {
     "data": {
      "text/plain": [
       "Text(0.5, 1.0, 'The Elbow Method showing the optimal k')"
      ]
     },
     "execution_count": 11,
     "metadata": {},
     "output_type": "execute_result"
    },
    {
     "data": {
      "image/png": "[encoded data removed]",
      "text/plain": [
       "<Figure size 576x396 with 1 Axes>"
      ]
     },
     "metadata": {},
     "output_type": "display_data"
    }
   ],
   "source": [
    "distortions = []\n",
    "range_base = range(1, 10)\n",
    "\n",
    "for k in range_base:\n",
    "    kmeanModel = KMeans(n_clusters=k, random_state=0)\n",
    "    kmeanModel.fit(X)\n",
    "    \n",
    "    distortions.append(sum(np.min(cdist(X, kmeanModel.cluster_centers_, 'euclidean'), axis=1)) / X.shape[0])\n",
    "\n",
    "# Plot the elbow\n",
    "plt.plot(range_base, distortions, 'bx-')\n",
    "plt.xlabel('k')\n",
    "plt.ylabel('Distortion')\n",
    "plt.title('The Elbow Method showing the optimal k')"
   ]
  },
  {
   "cell_type": "code",
   "execution_count": 16,
   "metadata": {},
   "outputs": [
    {
     "data": {
      "image/png": "[encoded data removed]",
      "text/plain": [
       "<Figure size 576x396 with 2 Axes>"
      ]
     },
     "metadata": {},
     "output_type": "display_data"
    },
    {
     "data": {
      "text/plain": [
       "<AxesSubplot:title={'center':'Distortion Score Elbow for KMeans Clustering'}, xlabel='k', ylabel='distortion score'>"
      ]
     },
     "execution_count": 16,
     "metadata": {},
     "output_type": "execute_result"
    }
   ],
   "source": [
    "model = KMeans(n_init=10)\n",
    "\n",
    "visualizer = KElbowVisualizer(model, k=(1,10))\n",
    "visualizer.fit(X)\n",
    "visualizer.show()"
   ]
  },
  {
   "cell_type": "code",
   "execution_count": 12,
   "metadata": {},
   "outputs": [
    {
     "data": {
      "text/plain": [
       "<matplotlib.collections.PathCollection at 0x1f6148a5af0>"
      ]
     },
     "execution_count": 12,
     "metadata": {},
     "output_type": "execute_result"
    },
    {
     "data": {
      "image/png": "[encoded data removed]",
      "text/plain": [
       "<Figure size 576x396 with 1 Axes>"
      ]
     },
     "metadata": {},
     "output_type": "display_data"
    }
   ],
   "source": [
    "plt.scatter(X[:, 0], X[:, 1], s=50)"
   ]
  },
  {
   "cell_type": "code",
   "execution_count": 18,
   "metadata": {},
   "outputs": [
    {
     "data": {
      "text/html": [
       "<style>#sk-container-id-1 {color: black;background-color: white;}#sk-container-id-1 pre{padding: 0;}#sk-container-id-1 div.sk-toggleable {background-color: white;}#sk-container-id-1 label.sk-toggleable__label {cursor: pointer;display: block;width: 100%;margin-bottom: 0;padding: 0.3em;box-sizing: border-box;text-align: center;}#sk-container-id-1 label.sk-toggleable__label-arrow:before {content: \"▸\";float: left;margin-right: 0.25em;color: #696969;}#sk-container-id-1 label.sk-toggleable__label-arrow:hover:before {color: black;}#sk-container-id-1 div.sk-estimator:hover label.sk-toggleable__label-arrow:before {color: black;}#sk-container-id-1 div.sk-toggleable__content {max-height: 0;max-width: 0;overflow: hidden;text-align: left;background-color: #f0f8ff;}#sk-container-id-1 div.sk-toggleable__content pre {margin: 0.2em;color: black;border-radius: 0.25em;background-color: #f0f8ff;}#sk-container-id-1 input.sk-toggleable__control:checked~div.sk-toggleable__content {max-height: 200px;max-width: 100%;overflow: auto;}#sk-container-id-1 input.sk-toggleable__control:checked~label.sk-toggleable__label-arrow:before {content: \"▾\";}#sk-container-id-1 div.sk-estimator input.sk-toggleable__control:checked~label.sk-toggleable__label {background-color: #d4ebff;}#sk-container-id-1 div.sk-label input.sk-toggleable__control:checked~label.sk-toggleable__label {background-color: #d4ebff;}#sk-container-id-1 input.sk-hidden--visually {border: 0;clip: rect(1px 1px 1px 1px);clip: rect(1px, 1px, 1px, 1px);height: 1px;margin: -1px;overflow: hidden;padding: 0;position: absolute;width: 1px;}#sk-container-id-1 div.sk-estimator {font-family: monospace;background-color: #f0f8ff;border: 1px dotted black;border-radius: 0.25em;box-sizing: border-box;margin-bottom: 0.5em;}#sk-container-id-1 div.sk-estimator:hover {background-color: #d4ebff;}#sk-container-id-1 div.sk-parallel-item::after {content: \"\";width: 100%;border-bottom: 1px solid gray;flex-grow: 1;}#sk-container-id-1 div.sk-label:hover label.sk-toggleable__label {background-color: #d4ebff;}#sk-container-id-1 div.sk-serial::before {content: \"\";position: absolute;border-left: 1px solid gray;box-sizing: border-box;top: 0;bottom: 0;left: 50%;z-index: 0;}#sk-container-id-1 div.sk-serial {display: flex;flex-direction: column;align-items: center;background-color: white;padding-right: 0.2em;padding-left: 0.2em;position: relative;}#sk-container-id-1 div.sk-item {position: relative;z-index: 1;}#sk-container-id-1 div.sk-parallel {display: flex;align-items: stretch;justify-content: center;background-color: white;position: relative;}#sk-container-id-1 div.sk-item::before, #sk-container-id-1 div.sk-parallel-item::before {content: \"\";position: absolute;border-left: 1px solid gray;box-sizing: border-box;top: 0;bottom: 0;left: 50%;z-index: -1;}#sk-container-id-1 div.sk-parallel-item {display: flex;flex-direction: column;z-index: 1;position: relative;background-color: white;}#sk-container-id-1 div.sk-parallel-item:first-child::after {align-self: flex-end;width: 50%;}#sk-container-id-1 div.sk-parallel-item:last-child::after {align-self: flex-start;width: 50%;}#sk-container-id-1 div.sk-parallel-item:only-child::after {width: 0;}#sk-container-id-1 div.sk-dashed-wrapped {border: 1px dashed gray;margin: 0 0.4em 0.5em 0.4em;box-sizing: border-box;padding-bottom: 0.4em;background-color: white;}#sk-container-id-1 div.sk-label label {font-family: monospace;font-weight: bold;display: inline-block;line-height: 1.2em;}#sk-container-id-1 div.sk-label-container {text-align: center;}#sk-container-id-1 div.sk-container {/* jupyter's `normalize.less` sets `[hidden] { display: none; }` but bootstrap.min.css set `[hidden] { display: none !important; }` so we also need the `!important` here to be able to override the default hidden behavior on the sphinx rendered scikit-learn.org. See: https://github.com/scikit-learn/scikit-learn/issues/21755 */display: inline-block !important;position: relative;}#sk-container-id-1 div.sk-text-repr-fallback {display: none;}</style><div id=\"sk-container-id-1\" class=\"sk-top-container\"><div class=\"sk-text-repr-fallback\"><pre>KMeans(n_clusters=4)</pre><b>In a Jupyter environment, please rerun this cell to show the HTML representation or trust the notebook. <br />On GitHub, the HTML representation is unable to render, please try loading this page with nbviewer.org.</b></div><div class=\"sk-container\" hidden><div class=\"sk-item\"><div class=\"sk-estimator sk-toggleable\"><input class=\"sk-toggleable__control sk-hidden--visually\" id=\"sk-estimator-id-1\" type=\"checkbox\" checked><label for=\"sk-estimator-id-1\" class=\"sk-toggleable__label sk-toggleable__label-arrow\">KMeans</label><div class=\"sk-toggleable__content\"><pre>KMeans(n_clusters=4)</pre></div></div></div></div></div>"
      ],
      "text/plain": [
       "KMeans(n_clusters=4)"
      ]
     },
     "execution_count": 18,
     "metadata": {},
     "output_type": "execute_result"
    }
   ],
   "source": [
    "kmeans = KMeans(n_clusters=4)\n",
    "kmeans.fit(X)"
   ]
  },
  {
   "cell_type": "code",
   "execution_count": 19,
   "metadata": {},
   "outputs": [],
   "source": [
    "y_means = kmeans.predict(X)"
   ]
  },
  {
   "cell_type": "code",
   "execution_count": 20,
   "metadata": {},
   "outputs": [
    {
     "data": {
      "text/plain": [
       "array([1, 3, 0, 3, 1, 1, 2, 0, 3, 3, 2, 3, 0, 3, 1, 0, 0, 1, 2, 2, 1, 1,\n",
       "       0, 2, 2, 0, 1, 0, 2, 0, 3, 3, 0, 3, 3, 3, 3, 3, 2, 1, 0, 2, 0, 0,\n",
       "       2, 2, 3, 2, 3, 1, 2, 1, 3, 1, 1, 2, 3, 2, 3, 1, 3, 0, 3, 2, 2, 2,\n",
       "       3, 1, 3, 2, 0, 2, 3, 2, 2, 3, 2, 0, 1, 3, 1, 0, 1, 1, 3, 0, 1, 0,\n",
       "       3, 3, 0, 1, 3, 2, 2, 0, 1, 1, 0, 2, 3, 1, 3, 1, 0, 1, 1, 0, 3, 0,\n",
       "       2, 2, 1, 3, 1, 0, 3, 1, 1, 0, 2, 1, 2, 1, 1, 1, 1, 2, 1, 2, 3, 2,\n",
       "       2, 1, 3, 2, 2, 3, 0, 3, 3, 2, 0, 2, 0, 2, 3, 0, 3, 3, 3, 0, 3, 0,\n",
       "       1, 2, 3, 2, 1, 0, 3, 0, 0, 1, 0, 2, 2, 0, 1, 0, 0, 3, 1, 0, 2, 3,\n",
       "       1, 1, 0, 2, 1, 0, 2, 2, 0, 0, 0, 0, 1, 3, 0, 2, 0, 0, 2, 2, 2, 0,\n",
       "       2, 3, 0, 2, 1, 2, 0, 3, 2, 3, 0, 3, 0, 2, 0, 0, 3, 2, 2, 1, 1, 0,\n",
       "       3, 1, 1, 2, 1, 2, 0, 3, 3, 0, 0, 3, 0, 1, 2, 0, 1, 2, 3, 2, 1, 0,\n",
       "       1, 3, 3, 3, 3, 2, 2, 3, 0, 2, 1, 0, 2, 2, 2, 1, 1, 3, 0, 0, 2, 1,\n",
       "       3, 2, 0, 3, 0, 1, 1, 2, 2, 0, 1, 1, 1, 0, 3, 3, 1, 1, 0, 1, 1, 1,\n",
       "       3, 2, 3, 0, 1, 1, 3, 3, 3, 1, 1, 0, 3, 2])"
      ]
     },
     "execution_count": 20,
     "metadata": {},
     "output_type": "execute_result"
    }
   ],
   "source": [
    "y_means"
   ]
  },
  {
   "cell_type": "code",
   "execution_count": 21,
   "metadata": {},
   "outputs": [],
   "source": [
    "centers = kmeans.cluster_centers_\n"
   ]
  },
  {
   "cell_type": "code",
   "execution_count": 22,
   "metadata": {},
   "outputs": [
    {
     "data": {
      "image/png": "[encoded data removed]",
      "text/plain": [
       "<Figure size 576x396 with 1 Axes>"
      ]
     },
     "metadata": {},
     "output_type": "display_data"
    }
   ],
   "source": [
    "plt.scatter(X[:, 0], X[:, 1], c=y_means, s=50, cmap='viridis')\n",
    "centers = kmeans.cluster_centers_\n",
    "plt.scatter(centers[:, 0], centers[:, 1], c='black',s=200, alpha=0.5);"
   ]
  },
  {
   "cell_type": "code",
   "execution_count": 23,
   "metadata": {},
   "outputs": [
    {
     "data": {
      "text/plain": [
       "1.0"
      ]
     },
     "execution_count": 23,
     "metadata": {},
     "output_type": "execute_result"
    }
   ],
   "source": [
    "accuracy_score(y_true, y_means)"
   ]
  },
  {
   "cell_type": "code",
   "execution_count": 141,
   "metadata": {},
   "outputs": [
    {
     "data": {
      "text/plain": [
       "array([1, 3, 0, 3, 1, 1, 2, 0, 3, 3, 2, 3, 0, 3, 1, 0, 0, 1, 2, 2, 1, 1,\n",
       "       0, 2, 2, 0, 1, 0, 2, 0, 3, 3, 0, 3, 3, 3, 3, 3, 2, 1, 0, 2, 0, 0,\n",
       "       2, 2, 3, 2, 3, 1, 2, 1, 3, 1, 1, 2, 3, 2, 3, 1, 3, 0, 3, 2, 2, 2,\n",
       "       3, 1, 3, 2, 0, 2, 3, 2, 2, 3, 2, 0, 1, 3, 1, 0, 1, 1, 3, 0, 1, 0,\n",
       "       3, 3, 0, 1, 3, 2, 2, 0, 1, 1, 0, 2, 3, 1, 3, 1, 0, 1, 1, 0, 3, 0,\n",
       "       2, 2, 1, 3, 1, 0, 3, 1, 1, 0, 2, 1, 2, 1, 1, 1, 1, 2, 1, 2, 3, 2,\n",
       "       2, 1, 3, 2, 2, 3, 0, 3, 3, 2, 0, 2, 0, 2, 3, 0, 3, 3, 3, 0, 3, 0,\n",
       "       1, 2, 3, 2, 1, 0, 3, 0, 0, 1, 0, 2, 2, 0, 1, 0, 0, 3, 1, 0, 2, 3,\n",
       "       1, 1, 0, 2, 1, 0, 2, 2, 0, 0, 0, 0, 1, 3, 0, 2, 0, 0, 2, 2, 2, 0,\n",
       "       2, 3, 0, 2, 1, 2, 0, 3, 2, 3, 0, 3, 0, 2, 0, 0, 3, 2, 2, 1, 1, 0,\n",
       "       3, 1, 1, 2, 1, 2, 0, 3, 3, 0, 0, 3, 0, 1, 2, 0, 1, 2, 3, 2, 1, 0,\n",
       "       1, 3, 3, 3, 3, 2, 2, 3, 0, 2, 1, 0, 2, 2, 2, 1, 1, 3, 0, 0, 2, 1,\n",
       "       3, 2, 0, 3, 0, 1, 1, 2, 2, 0, 1, 1, 1, 0, 3, 3, 1, 1, 0, 1, 1, 1,\n",
       "       3, 2, 3, 0, 1, 1, 3, 3, 3, 1, 1, 0, 3, 2])"
      ]
     },
     "execution_count": 141,
     "metadata": {},
     "output_type": "execute_result"
    }
   ],
   "source": [
    "y_true"
   ]
  },
  {
   "cell_type": "code",
   "execution_count": 142,
   "metadata": {},
   "outputs": [
    {
     "data": {
      "text/plain": [
       "array([2, 1, 0, 1, 2, 2, 3, 0, 1, 1, 3, 1, 0, 1, 2, 0, 0, 2, 3, 3, 2, 2,\n",
       "       0, 3, 3, 0, 2, 0, 3, 0, 1, 1, 0, 1, 1, 1, 1, 1, 3, 2, 0, 3, 0, 0,\n",
       "       3, 3, 1, 3, 1, 2, 3, 2, 1, 2, 2, 3, 1, 3, 1, 2, 1, 0, 1, 3, 3, 3,\n",
       "       1, 2, 1, 3, 0, 3, 1, 3, 3, 1, 3, 0, 2, 1, 2, 0, 2, 2, 1, 0, 2, 0,\n",
       "       1, 1, 0, 2, 1, 3, 3, 0, 2, 2, 0, 3, 1, 2, 1, 2, 0, 2, 2, 0, 1, 0,\n",
       "       3, 3, 2, 1, 2, 0, 1, 2, 2, 0, 3, 2, 3, 2, 2, 2, 2, 3, 2, 3, 1, 3,\n",
       "       3, 2, 1, 3, 3, 1, 0, 1, 1, 3, 0, 3, 0, 3, 1, 0, 1, 1, 1, 0, 1, 0,\n",
       "       2, 3, 1, 3, 2, 0, 1, 0, 0, 2, 0, 3, 3, 0, 2, 0, 0, 1, 2, 0, 3, 1,\n",
       "       2, 2, 0, 3, 2, 0, 3, 3, 0, 0, 0, 0, 2, 1, 0, 3, 0, 0, 3, 3, 3, 0,\n",
       "       3, 1, 0, 3, 2, 3, 0, 1, 3, 1, 0, 1, 0, 3, 0, 0, 1, 3, 3, 2, 2, 0,\n",
       "       1, 2, 2, 3, 2, 3, 0, 1, 1, 0, 0, 1, 0, 2, 3, 0, 2, 3, 1, 3, 2, 0,\n",
       "       2, 1, 1, 1, 1, 3, 3, 1, 0, 3, 2, 0, 3, 3, 3, 2, 2, 1, 0, 0, 3, 2,\n",
       "       1, 3, 0, 1, 0, 2, 2, 3, 3, 0, 2, 2, 2, 0, 1, 1, 2, 2, 0, 2, 2, 2,\n",
       "       1, 3, 1, 0, 2, 2, 1, 1, 1, 2, 2, 0, 1, 3])"
      ]
     },
     "execution_count": 142,
     "metadata": {},
     "output_type": "execute_result"
    }
   ],
   "source": [
    "y_means"
   ]
  },
  {
   "cell_type": "code",
   "execution_count": 139,
   "metadata": {},
   "outputs": [
    {
     "data": {
      "image/png": "[encoded data removed]",
      "text/plain": [
       "<Figure size 576x396 with 1 Axes>"
      ]
     },
     "metadata": {},
     "output_type": "display_data"
    }
   ],
   "source": [
    "\n",
    "\n",
    "mat = confusion_matrix(y_true, y_means)\n",
    "sns.heatmap(mat.T, square=True, annot=True, fmt='d', cbar=False, xticklabels='auto', yticklabels='auto')\n",
    "plt.xlabel('true label')\n",
    "plt.ylabel('predicted label');"
   ]
  },
  {
   "cell_type": "code",
   "execution_count": 140,
   "metadata": {},
   "outputs": [
    {
     "data": {
      "image/png": "[encoded data removed]",
      "text/plain": [
       "<Figure size 576x396 with 1 Axes>"
      ]
     },
     "metadata": {},
     "output_type": "display_data"
    }
   ],
   "source": [
    "\n",
    "mat = confusion_matrix(y_true, y_means)\n",
    "sns.heatmap(mat.T, square=True, annot=True, fmt='d', cbar=False)\n",
    "plt.xlabel('true label')\n",
    "plt.ylabel('predicted label');"
   ]
  },
  {
   "cell_type": "code",
   "execution_count": 111,
   "metadata": {},
   "outputs": [
    {
     "data": {
      "text/plain": [
       "Text(0.5, 1.0, 'The Elbow Method showing the optimal k')"
      ]
     },
     "execution_count": 111,
     "metadata": {},
     "output_type": "execute_result"
    },
    {
     "data": {
      "image/png": "[encoded data removed]",
      "text/plain": [
       "<Figure size 576x396 with 1 Axes>"
      ]
     },
     "metadata": {},
     "output_type": "display_data"
    }
   ],
   "source": [
    "distortions = []\n",
    "range_base = range(1, 12)\n",
    "\n",
    "for k in range_base:\n",
    "    kmeanModel = KMeans(n_clusters=k, random_state=0)\n",
    "    kmeanModel.fit(X)\n",
    "    \n",
    "    distortions.append(sum(np.min(cdist(X, kmeanModel.cluster_centers_, 'euclidean'), axis=1)) / X.shape[0])\n",
    "\n",
    "# Plot the elbow\n",
    "plt.plot(range_base, distortions, 'bx-')\n",
    "plt.xlabel('k')\n",
    "plt.ylabel('Distortion')\n",
    "plt.title('The Elbow Method showing the optimal k')"
   ]
  },
  {
   "cell_type": "code",
   "execution_count": 143,
   "metadata": {},
   "outputs": [
    {
     "data": {
      "image/png": "[encoded data removed]",
      "text/plain": [
       "<Figure size 576x396 with 2 Axes>"
      ]
     },
     "metadata": {},
     "output_type": "display_data"
    },
    {
     "data": {
      "text/plain": [
       "<AxesSubplot:title={'center':'Distortion Score Elbow for KMeans Clustering'}, xlabel='k', ylabel='distortion score'>"
      ]
     },
     "execution_count": 143,
     "metadata": {},
     "output_type": "execute_result"
    }
   ],
   "source": [
    "model = KMeans(random_state=0)\n",
    "\n",
    "visualizer = KElbowVisualizer(model, k=(1,13))\n",
    "visualizer.fit(X)\n",
    "visualizer.show()"
   ]
  },
  {
   "cell_type": "code",
   "execution_count": 144,
   "metadata": {},
   "outputs": [
    {
     "data": {
      "text/plain": [
       "4"
      ]
     },
     "execution_count": 144,
     "metadata": {},
     "output_type": "execute_result"
    }
   ],
   "source": [
    "visualizer.elbow_value_"
   ]
  },
  {
   "cell_type": "code",
   "execution_count": 117,
   "metadata": {},
   "outputs": [
    {
     "data": {
      "text/plain": [
       "0.25666666666666665"
      ]
     },
     "execution_count": 117,
     "metadata": {},
     "output_type": "execute_result"
    }
   ],
   "source": [
    "model = KMeans(n_clusters=2, random_state=0)\n",
    "y_pred = model.fit_predict(X)\n",
    "accuracy_score(y_true, y_pred)"
   ]
  },
  {
   "cell_type": "code",
   "execution_count": 51,
   "metadata": {},
   "outputs": [],
   "source": [
    "digits = load_digits()"
   ]
  },
  {
   "cell_type": "code",
   "execution_count": 55,
   "metadata": {},
   "outputs": [
    {
     "data": {
      "text/plain": [
       "array([0, 1, 2, ..., 8, 9, 8])"
      ]
     },
     "execution_count": 55,
     "metadata": {},
     "output_type": "execute_result"
    }
   ],
   "source": [
    "digits.target"
   ]
  },
  {
   "cell_type": "code",
   "execution_count": 52,
   "metadata": {},
   "outputs": [
    {
     "data": {
      "text/plain": [
       "array([0, 1, 2, ..., 8, 9, 8])"
      ]
     },
     "execution_count": 52,
     "metadata": {},
     "output_type": "execute_result"
    }
   ],
   "source": [
    "digits.target"
   ]
  },
  {
   "cell_type": "code",
   "execution_count": 101,
   "metadata": {},
   "outputs": [
    {
     "data": {
      "text/plain": [
       "(300, 2)"
      ]
     },
     "execution_count": 101,
     "metadata": {},
     "output_type": "execute_result"
    }
   ],
   "source": [
    "X.shape"
   ]
  },
  {
   "cell_type": "code",
   "execution_count": 102,
   "metadata": {},
   "outputs": [
    {
     "data": {
      "text/plain": [
       "array([[ 8.36856841e-01,  2.13635938e+00],\n",
       "       [-1.41365810e+00,  7.40962324e+00],\n",
       "       [ 1.15521298e+00,  5.09961887e+00],\n",
       "       [-1.01861632e+00,  7.81491465e+00],\n",
       "       [ 1.27135141e+00,  1.89254207e+00],\n",
       "       [ 3.43761754e+00,  2.61654166e-01],\n",
       "       [-1.80822253e+00,  1.59701749e+00],\n",
       "       [ 1.41372442e+00,  4.38117707e+00],\n",
       "       [-2.04932168e-01,  8.43209665e+00],\n",
       "       [-7.11099611e-01,  8.66043846e+00],\n",
       "       [-1.71237268e+00,  2.77780226e+00],\n",
       "       [-2.67000792e+00,  8.35389140e+00],\n",
       "       [ 1.24258802e+00,  4.50399192e+00],\n",
       "       [-2.22783649e+00,  6.89479938e+00],\n",
       "       [ 1.45513831e+00, -2.91989981e-02],\n",
       "       [ 4.53791789e-01,  3.95647753e+00],\n",
       "       [ 1.06923853e+00,  4.53068484e+00],\n",
       "       [ 2.56936589e+00,  5.07048304e-01],\n",
       "       [-1.06690610e+00,  3.13165795e+00],\n",
       "       [-1.07859101e+00,  2.20451529e+00],\n",
       "       [ 2.71506328e+00,  1.29082190e+00],\n",
       "       [ 1.77710994e+00,  1.18655254e+00],\n",
       "       [ 7.34363910e-01,  5.03725437e+00],\n",
       "       [-1.99648151e+00,  2.85164868e+00],\n",
       "       [-1.91828017e+00,  2.60516867e+00],\n",
       "       [-5.55523811e-01,  4.69595848e+00],\n",
       "       [ 1.69747910e+00,  8.66123282e-01],\n",
       "       [ 5.94762432e-01,  4.70964730e+00],\n",
       "       [-2.88024255e+00,  2.30437816e+00],\n",
       "       [ 1.86725632e-01,  4.02683656e+00],\n",
       "       [-5.13333436e-01,  7.87437368e+00],\n",
       "       [-2.05701103e+00,  7.37851598e+00],\n",
       "       [ 1.87271752e+00,  4.18069237e+00],\n",
       "       [-1.13121396e+00,  6.76652230e+00],\n",
       "       [-1.64428957e+00,  7.94095139e+00],\n",
       "       [-2.41933824e+00,  7.43952498e+00],\n",
       "       [-2.01606928e+00,  7.48420129e+00],\n",
       "       [-2.62142780e+00,  7.98635066e+00],\n",
       "       [-2.20299950e+00,  2.47947561e+00],\n",
       "       [ 1.66382237e+00,  6.63091635e-01],\n",
       "       [ 6.69786996e-01,  3.59540802e+00],\n",
       "       [-1.98539037e+00,  2.05520738e+00],\n",
       "       [-4.74920358e-02,  5.47425256e+00],\n",
       "       [ 1.54462126e+00,  4.21078127e+00],\n",
       "       [-1.70200643e+00,  2.46098693e+00],\n",
       "       [-1.02192525e+00,  2.76820711e+00],\n",
       "       [-1.37842552e+00,  8.10269597e+00],\n",
       "       [-1.55220688e+00,  2.74574995e+00],\n",
       "       [-1.47904303e+00,  7.56915836e+00],\n",
       "       [ 1.98894313e+00,  1.50976729e+00],\n",
       "       [-1.94972418e+00,  3.48383870e+00],\n",
       "       [ 2.45509737e+00,  6.21231788e-01],\n",
       "       [-8.94327882e-01,  7.61714473e+00],\n",
       "       [ 1.69687788e+00,  7.54910622e-01],\n",
       "       [ 1.75644805e+00,  2.05538289e+00],\n",
       "       [-1.11064012e+00,  2.82213820e+00],\n",
       "       [-4.15017659e-02,  7.80870276e+00],\n",
       "       [-1.14091533e+00,  1.97550822e+00],\n",
       "       [-1.80634968e+00,  7.72830656e+00],\n",
       "       [ 1.39263752e+00,  9.28962707e-01],\n",
       "       [-2.25698670e+00,  7.30207720e+00],\n",
       "       [ 5.71670482e-01,  4.32288566e+00],\n",
       "       [-1.54994580e+00,  9.28293222e+00],\n",
       "       [-1.03819212e+00,  2.95323761e+00],\n",
       "       [-2.10956676e+00,  3.10677258e+00],\n",
       "       [-1.18652985e+00,  2.78427720e+00],\n",
       "       [-2.45809975e+00,  7.51178724e+00],\n",
       "       [ 2.36960214e+00,  9.50716912e-01],\n",
       "       [-2.66676007e+00,  7.84766052e+00],\n",
       "       [-1.49720702e+00,  3.21418433e+00],\n",
       "       [ 1.32222457e+00,  4.17880807e+00],\n",
       "       [-4.87271301e-01,  3.32858293e+00],\n",
       "       [-1.03718771e+00,  8.06300134e+00],\n",
       "       [-1.60496819e+00,  2.97425420e+00],\n",
       "       [-1.50372568e+00,  1.92385320e+00],\n",
       "       [-7.85412206e-01,  8.45312331e+00],\n",
       "       [-1.75783190e+00,  2.97449321e+00],\n",
       "       [ 1.19008992e+00,  4.72773123e+00],\n",
       "       [ 2.14043942e+00,  7.06066610e-01],\n",
       "       [-1.03540116e+00,  8.20559195e+00],\n",
       "       [ 1.25471244e+00,  8.96331565e-02],\n",
       "       [ 5.95676822e-01,  4.08614263e+00],\n",
       "       [ 1.27955338e+00,  1.05789418e+00],\n",
       "       [ 1.72955064e+00,  1.14729369e+00],\n",
       "       [-9.49041610e-01,  8.46424331e+00],\n",
       "       [ 9.35325115e-01,  5.33179296e+00],\n",
       "       [ 2.36923352e+00,  7.94735861e-01],\n",
       "       [ 4.28576743e-01,  4.97399710e+00],\n",
       "       [-2.04758277e+00,  6.65428520e+00],\n",
       "       [-1.45672617e+00,  7.48669893e+00],\n",
       "       [ 5.29417185e-01,  3.80792420e+00],\n",
       "       [ 1.78194802e+00,  9.08151155e-01],\n",
       "       [-1.95575053e+00,  8.61631686e+00],\n",
       "       [-1.74572014e+00,  3.01190457e+00],\n",
       "       [-1.17979111e+00,  3.12767494e+00],\n",
       "       [ 1.16411070e+00,  3.79132988e+00],\n",
       "       [ 1.36155806e+00,  1.36638252e+00],\n",
       "       [ 2.60137487e+00,  1.08799459e+00],\n",
       "       [ 2.72396035e-01,  5.46996004e+00],\n",
       "       [-3.12240736e+00,  3.28167398e+00],\n",
       "       [-5.88085172e-01,  8.61427320e+00],\n",
       "       [ 1.66909648e+00, -4.36378231e-01],\n",
       "       [-6.82774903e-01,  7.67490317e+00],\n",
       "       [ 2.36790645e+00,  5.52190878e-01],\n",
       "       [ 1.05241733e+00,  4.54498095e+00],\n",
       "       [ 2.22707373e+00,  1.26296996e+00],\n",
       "       [ 2.43934644e+00, -7.25099666e-02],\n",
       "       [ 1.34471770e+00,  4.85711133e+00],\n",
       "       [-1.31454942e+00,  6.83904013e+00],\n",
       "       [ 9.82570091e-01,  5.37530962e+00],\n",
       "       [-1.06295223e+00,  2.20755388e+00],\n",
       "       [-1.60712495e+00,  3.56452854e+00],\n",
       "       [ 1.57322172e+00,  4.83933793e-01],\n",
       "       [-2.17851338e+00,  8.08585131e+00],\n",
       "       [ 1.83375842e+00,  7.54036153e-01],\n",
       "       [ 2.10616050e+00,  3.49513189e+00],\n",
       "       [-1.64338755e+00,  7.52691964e+00],\n",
       "       [ 1.10550448e+00,  1.26389129e+00],\n",
       "       [ 1.61152972e+00,  1.82347242e+00],\n",
       "       [ 4.59534668e-01,  5.44982630e+00],\n",
       "       [-5.38023054e-01,  3.01641891e+00],\n",
       "       [ 1.67841499e+00,  6.09047389e-01],\n",
       "       [-1.01214966e+00,  3.60254338e+00],\n",
       "       [ 1.34195197e+00,  5.93573847e-01],\n",
       "       [ 1.42811550e+00,  1.62435083e+00],\n",
       "       [ 2.04505527e+00,  1.12515470e+00],\n",
       "       [ 1.67280531e+00,  6.59300571e-01],\n",
       "       [-1.35863899e+00,  2.32200809e+00],\n",
       "       [ 1.13078931e+00,  9.35620856e-01],\n",
       "       [-1.73896306e+00,  1.94799775e+00],\n",
       "       [-3.40258925e-01,  8.16733925e+00],\n",
       "       [-1.63793622e+00,  2.43329317e+00],\n",
       "       [-1.68754414e+00,  2.24107546e+00],\n",
       "       [ 2.43040639e+00, -6.35709334e-02],\n",
       "       [-1.37998039e+00,  7.18503804e+00],\n",
       "       [-1.25245465e+00,  2.33911505e+00],\n",
       "       [-2.39482483e+00,  3.39806103e+00],\n",
       "       [-2.09183352e+00,  7.48142543e+00],\n",
       "       [ 4.88382309e-01,  3.26801777e+00],\n",
       "       [-5.39428614e-01,  7.45631776e+00],\n",
       "       [-2.59201821e+00,  8.07635945e+00],\n",
       "       [-1.04656513e+00,  2.96483837e+00],\n",
       "       [ 1.25566754e+00,  3.38204112e+00],\n",
       "       [-1.62150422e+00,  4.27191636e+00],\n",
       "       [ 1.86922139e+00,  5.44132083e+00],\n",
       "       [-1.76404140e+00,  2.22222995e+00],\n",
       "       [-1.38181918e+00,  7.28761248e+00],\n",
       "       [ 7.93137001e-03,  4.17614316e+00],\n",
       "       [-1.10298500e+00,  7.30222786e+00],\n",
       "       [-1.79351372e+00,  7.58086944e+00],\n",
       "       [-1.51176949e+00,  7.94426307e+00],\n",
       "       [ 9.59360742e-01,  4.56078645e+00],\n",
       "       [-6.01337393e-01,  6.29994922e+00],\n",
       "       [ 2.24592863e-01,  4.77028154e+00],\n",
       "       [ 1.56724897e+00,  1.78090633e-02],\n",
       "       [-1.03395259e+00,  2.92105785e+00],\n",
       "       [-9.22268640e-01,  8.09888579e+00],\n",
       "       [-1.88609638e+00,  2.24834407e+00],\n",
       "       [ 1.86873582e+00,  9.56103760e-01],\n",
       "       [ 1.10123507e+00,  4.88977075e+00],\n",
       "       [-1.93213725e+00,  8.30643453e+00],\n",
       "       [ 6.70478769e-01,  4.04094275e+00],\n",
       "       [ 7.43873988e-01,  4.12240568e+00],\n",
       "       [ 1.64003761e+00,  1.81948989e+00],\n",
       "       [ 8.15468056e-01,  4.78526116e+00],\n",
       "       [-2.63274574e+00,  2.63109786e+00],\n",
       "       [-9.61076361e-01,  1.27407596e+00],\n",
       "       [ 2.13979079e-01,  4.88542535e+00],\n",
       "       [ 1.43472182e+00,  1.30662037e+00],\n",
       "       [ 1.21387411e+00,  3.64795042e+00],\n",
       "       [ 1.08272576e+00,  4.06271877e+00],\n",
       "       [-1.22605234e+00,  8.29620146e+00],\n",
       "       [ 1.48170052e+00,  6.90074595e-01],\n",
       "       [ 1.89593761e+00,  5.18540259e+00],\n",
       "       [-1.32356154e+00,  4.13050840e+00],\n",
       "       [-1.14989863e+00,  7.89325283e+00],\n",
       "       [ 2.46915842e+00,  1.67877140e+00],\n",
       "       [ 2.31102276e+00,  1.30380848e+00],\n",
       "       [ 5.72793810e-01,  4.08805543e+00],\n",
       "       [-9.67794989e-01,  3.12186125e+00],\n",
       "       [ 2.62492001e+00,  9.50194405e-01],\n",
       "       [ 1.68353782e+00,  4.19583243e+00],\n",
       "       [-2.22131717e+00,  2.73050691e+00],\n",
       "       [-1.57846247e+00,  3.03445802e+00],\n",
       "       [ 8.15155229e-02,  4.56742235e+00],\n",
       "       [ 1.43289271e+00,  4.37679234e+00],\n",
       "       [ 1.06269622e+00,  5.17635143e+00],\n",
       "       [ 7.67522789e-01,  4.39759671e+00],\n",
       "       [ 2.47019077e+00,  1.31451315e+00],\n",
       "       [-1.73163168e+00,  7.16447286e+00],\n",
       "       [ 3.47138300e-01,  3.45177657e+00],\n",
       "       [-1.00140436e+00,  2.84881778e+00],\n",
       "       [ 1.01618041e+00,  4.48527047e+00],\n",
       "       [ 5.59529363e-01,  4.21400660e+00],\n",
       "       [-2.11821046e+00,  2.03478126e+00],\n",
       "       [-1.36219420e+00,  2.38333321e+00],\n",
       "       [-2.78366586e+00,  2.99211541e+00],\n",
       "       [ 1.65225163e+00,  3.65582842e+00],\n",
       "       [-1.93960658e+00,  2.18943582e+00],\n",
       "       [-1.81487687e+00,  7.97832190e+00],\n",
       "       [ 1.20212540e+00,  3.64414685e+00],\n",
       "       [-9.69200946e-01,  3.26721702e+00],\n",
       "       [ 1.86985974e+00, -1.07938624e-01],\n",
       "       [-1.80701134e+00,  2.06773859e+00],\n",
       "       [ 1.21767506e+00,  3.89290127e+00],\n",
       "       [-1.48368917e+00,  6.00777418e+00],\n",
       "       [-1.56387985e+00,  2.85349910e+00],\n",
       "       [-6.86210297e-01,  8.68285664e+00],\n",
       "       [ 1.07627418e+00,  4.68480619e+00],\n",
       "       [-9.75986627e-01,  6.73761577e+00],\n",
       "       [ 1.37964693e+00,  4.54826443e+00],\n",
       "       [-1.64129611e+00,  2.68097255e+00],\n",
       "       [-1.84892963e-03,  4.58145668e+00],\n",
       "       [ 1.71444449e+00,  5.02521524e+00],\n",
       "       [-1.40524304e+00,  7.72611315e+00],\n",
       "       [-7.08184904e-01,  2.50421275e+00],\n",
       "       [-8.85798374e-01,  2.64585078e+00],\n",
       "       [ 1.98436909e+00,  4.89556738e-01],\n",
       "       [ 2.95195825e+00, -3.44327355e-01],\n",
       "       [ 4.31891060e-01,  4.33495456e+00],\n",
       "       [-1.86621694e+00,  7.62549400e+00],\n",
       "       [ 2.52706430e+00,  6.17812202e-01],\n",
       "       [ 2.04067185e+00,  4.54845114e-01],\n",
       "       [-2.58043836e+00,  3.18844294e+00],\n",
       "       [ 1.61990909e+00,  6.76452867e-02],\n",
       "       [-2.58802708e+00,  3.13117134e+00],\n",
       "       [ 4.43598630e-01,  3.11530945e+00],\n",
       "       [-4.56773649e-01,  7.30600872e+00],\n",
       "       [-1.12867566e+00,  7.80509789e+00],\n",
       "       [ 2.13003529e+00,  5.19209620e+00],\n",
       "       [ 1.00372519e+00,  4.19147702e+00],\n",
       "       [-1.39346767e+00,  8.74641672e+00],\n",
       "       [ 7.28098690e-01,  3.85531444e+00],\n",
       "       [ 8.93499638e-01,  1.01093082e+00],\n",
       "       [-1.10782972e+00,  2.92014479e+00],\n",
       "       [ 7.89338559e-01,  4.33748653e+00],\n",
       "       [ 1.97553917e+00,  7.18989132e-01],\n",
       "       [-1.24902582e+00,  3.08533972e+00],\n",
       "       [-1.07768797e+00,  8.88106128e+00],\n",
       "       [-1.86849125e+00,  3.07982487e+00],\n",
       "       [ 2.76808540e+00,  1.08782923e+00],\n",
       "       [ 2.77180174e-01,  4.84428322e+00],\n",
       "       [ 3.41085289e+00,  8.72309369e-01],\n",
       "       [-1.58084155e+00,  7.55307742e+00],\n",
       "       [-1.53027550e+00,  7.70542113e+00],\n",
       "       [-1.82455840e+00,  7.35958960e+00],\n",
       "       [-1.68568257e+00,  7.95339446e+00],\n",
       "       [-1.65104622e+00,  3.44598961e+00],\n",
       "       [-1.30440901e+00,  3.00311934e+00],\n",
       "       [-7.30698168e-01,  6.24208856e+00],\n",
       "       [ 2.40615694e+00,  4.87047502e+00],\n",
       "       [-1.53631328e+00,  3.01443916e+00],\n",
       "       [ 1.48859977e+00,  6.51633844e-01],\n",
       "       [ 5.14320434e-01,  4.62733684e+00],\n",
       "       [-1.81469750e+00,  3.29009724e+00],\n",
       "       [-1.93731055e+00,  3.91361274e+00],\n",
       "       [-6.14907097e-01,  3.94963585e+00],\n",
       "       [ 2.03169783e+00,  1.96807561e-01],\n",
       "       [ 2.14917144e+00,  1.03697228e+00],\n",
       "       [-1.36999388e+00,  7.76953035e+00],\n",
       "       [ 9.14338767e-01,  4.55014643e+00],\n",
       "       [ 3.33818506e-01,  4.93645836e+00],\n",
       "       [-2.15968109e+00,  3.41003096e+00],\n",
       "       [ 1.36678633e+00,  6.34971633e-01],\n",
       "       [-5.71099336e-01,  8.13306058e+00],\n",
       "       [-1.00552592e+00,  3.08400540e+00],\n",
       "       [ 1.49493180e+00,  3.85848832e+00],\n",
       "       [-5.90447667e-01,  7.69493053e+00],\n",
       "       [ 7.15177948e-01,  5.41334556e+00],\n",
       "       [ 2.11390250e+00,  1.24743587e+00],\n",
       "       [ 1.20083098e+00,  6.01671730e-01],\n",
       "       [-2.54576750e+00,  3.15025055e+00],\n",
       "       [-1.95866665e+00,  2.43008647e+00],\n",
       "       [ 2.33812285e+00,  3.43116792e+00],\n",
       "       [ 3.35320909e+00,  1.69958043e+00],\n",
       "       [ 1.84287117e+00,  7.26928839e-02],\n",
       "       [ 1.32000621e+00,  1.40428145e+00],\n",
       "       [ 2.09680545e+00,  4.84741412e+00],\n",
       "       [-1.24307904e+00,  8.15166254e+00],\n",
       "       [-1.85908090e+00,  7.78874716e+00],\n",
       "       [ 2.74666646e+00,  1.54543482e+00],\n",
       "       [ 2.60778282e+00,  1.08890025e+00],\n",
       "       [ 1.65991049e+00,  3.56289184e+00],\n",
       "       [ 2.35151259e+00,  8.28001297e-01],\n",
       "       [ 2.22322228e+00,  8.38773426e-01],\n",
       "       [ 3.22881491e+00,  1.13171965e+00],\n",
       "       [-1.55876720e+00,  7.24816210e+00],\n",
       "       [-6.46956784e-01,  3.42941343e+00],\n",
       "       [-1.32688818e+00,  8.51530794e+00],\n",
       "       [ 9.17198564e-01,  3.90570036e+00],\n",
       "       [ 2.29469533e+00, -7.65891994e-01],\n",
       "       [ 1.81559810e+00,  1.11969719e+00],\n",
       "       [-1.12016775e+00,  7.11031582e+00],\n",
       "       [-1.65507124e+00,  8.61416749e+00],\n",
       "       [-1.27567815e+00,  7.96776461e+00],\n",
       "       [ 1.97369770e+00,  1.57979848e+00],\n",
       "       [ 2.51834185e+00,  1.39176615e+00],\n",
       "       [ 4.38990142e-01,  4.53592883e+00],\n",
       "       [ 3.69478657e-01,  7.79110522e+00],\n",
       "       [-1.79145759e+00,  2.74966896e+00]])"
      ]
     },
     "execution_count": 102,
     "metadata": {},
     "output_type": "execute_result"
    }
   ],
   "source": [
    "X"
   ]
  },
  {
   "cell_type": "code",
   "execution_count": 76,
   "metadata": {},
   "outputs": [
    {
     "data": {
      "text/plain": [
       "array([[ 8.36856841e-01,  2.13635938e+00],\n",
       "       [-1.41365810e+00,  7.40962324e+00],\n",
       "       [ 1.15521298e+00,  5.09961887e+00],\n",
       "       [-1.01861632e+00,  7.81491465e+00],\n",
       "       [ 1.27135141e+00,  1.89254207e+00],\n",
       "       [ 3.43761754e+00,  2.61654166e-01],\n",
       "       [-1.80822253e+00,  1.59701749e+00],\n",
       "       [ 1.41372442e+00,  4.38117707e+00],\n",
       "       [-2.04932168e-01,  8.43209665e+00],\n",
       "       [-7.11099611e-01,  8.66043846e+00],\n",
       "       [-1.71237268e+00,  2.77780226e+00],\n",
       "       [-2.67000792e+00,  8.35389140e+00],\n",
       "       [ 1.24258802e+00,  4.50399192e+00],\n",
       "       [-2.22783649e+00,  6.89479938e+00],\n",
       "       [ 1.45513831e+00, -2.91989981e-02],\n",
       "       [ 4.53791789e-01,  3.95647753e+00],\n",
       "       [ 1.06923853e+00,  4.53068484e+00],\n",
       "       [ 2.56936589e+00,  5.07048304e-01],\n",
       "       [-1.06690610e+00,  3.13165795e+00],\n",
       "       [-1.07859101e+00,  2.20451529e+00],\n",
       "       [ 2.71506328e+00,  1.29082190e+00],\n",
       "       [ 1.77710994e+00,  1.18655254e+00],\n",
       "       [ 7.34363910e-01,  5.03725437e+00],\n",
       "       [-1.99648151e+00,  2.85164868e+00],\n",
       "       [-1.91828017e+00,  2.60516867e+00],\n",
       "       [-5.55523811e-01,  4.69595848e+00],\n",
       "       [ 1.69747910e+00,  8.66123282e-01],\n",
       "       [ 5.94762432e-01,  4.70964730e+00],\n",
       "       [-2.88024255e+00,  2.30437816e+00],\n",
       "       [ 1.86725632e-01,  4.02683656e+00],\n",
       "       [-5.13333436e-01,  7.87437368e+00],\n",
       "       [-2.05701103e+00,  7.37851598e+00],\n",
       "       [ 1.87271752e+00,  4.18069237e+00],\n",
       "       [-1.13121396e+00,  6.76652230e+00],\n",
       "       [-1.64428957e+00,  7.94095139e+00],\n",
       "       [-2.41933824e+00,  7.43952498e+00],\n",
       "       [-2.01606928e+00,  7.48420129e+00],\n",
       "       [-2.62142780e+00,  7.98635066e+00],\n",
       "       [-2.20299950e+00,  2.47947561e+00],\n",
       "       [ 1.66382237e+00,  6.63091635e-01],\n",
       "       [ 6.69786996e-01,  3.59540802e+00],\n",
       "       [-1.98539037e+00,  2.05520738e+00],\n",
       "       [-4.74920358e-02,  5.47425256e+00],\n",
       "       [ 1.54462126e+00,  4.21078127e+00],\n",
       "       [-1.70200643e+00,  2.46098693e+00],\n",
       "       [-1.02192525e+00,  2.76820711e+00],\n",
       "       [-1.37842552e+00,  8.10269597e+00],\n",
       "       [-1.55220688e+00,  2.74574995e+00],\n",
       "       [-1.47904303e+00,  7.56915836e+00],\n",
       "       [ 1.98894313e+00,  1.50976729e+00],\n",
       "       [-1.94972418e+00,  3.48383870e+00],\n",
       "       [ 2.45509737e+00,  6.21231788e-01],\n",
       "       [-8.94327882e-01,  7.61714473e+00],\n",
       "       [ 1.69687788e+00,  7.54910622e-01],\n",
       "       [ 1.75644805e+00,  2.05538289e+00],\n",
       "       [-1.11064012e+00,  2.82213820e+00],\n",
       "       [-4.15017659e-02,  7.80870276e+00],\n",
       "       [-1.14091533e+00,  1.97550822e+00],\n",
       "       [-1.80634968e+00,  7.72830656e+00],\n",
       "       [ 1.39263752e+00,  9.28962707e-01],\n",
       "       [-2.25698670e+00,  7.30207720e+00],\n",
       "       [ 5.71670482e-01,  4.32288566e+00],\n",
       "       [-1.54994580e+00,  9.28293222e+00],\n",
       "       [-1.03819212e+00,  2.95323761e+00],\n",
       "       [-2.10956676e+00,  3.10677258e+00],\n",
       "       [-1.18652985e+00,  2.78427720e+00],\n",
       "       [-2.45809975e+00,  7.51178724e+00],\n",
       "       [ 2.36960214e+00,  9.50716912e-01],\n",
       "       [-2.66676007e+00,  7.84766052e+00],\n",
       "       [-1.49720702e+00,  3.21418433e+00],\n",
       "       [ 1.32222457e+00,  4.17880807e+00],\n",
       "       [-4.87271301e-01,  3.32858293e+00],\n",
       "       [-1.03718771e+00,  8.06300134e+00],\n",
       "       [-1.60496819e+00,  2.97425420e+00],\n",
       "       [-1.50372568e+00,  1.92385320e+00],\n",
       "       [-7.85412206e-01,  8.45312331e+00],\n",
       "       [-1.75783190e+00,  2.97449321e+00],\n",
       "       [ 1.19008992e+00,  4.72773123e+00],\n",
       "       [ 2.14043942e+00,  7.06066610e-01],\n",
       "       [-1.03540116e+00,  8.20559195e+00],\n",
       "       [ 1.25471244e+00,  8.96331565e-02],\n",
       "       [ 5.95676822e-01,  4.08614263e+00],\n",
       "       [ 1.27955338e+00,  1.05789418e+00],\n",
       "       [ 1.72955064e+00,  1.14729369e+00],\n",
       "       [-9.49041610e-01,  8.46424331e+00],\n",
       "       [ 9.35325115e-01,  5.33179296e+00],\n",
       "       [ 2.36923352e+00,  7.94735861e-01],\n",
       "       [ 4.28576743e-01,  4.97399710e+00],\n",
       "       [-2.04758277e+00,  6.65428520e+00],\n",
       "       [-1.45672617e+00,  7.48669893e+00],\n",
       "       [ 5.29417185e-01,  3.80792420e+00],\n",
       "       [ 1.78194802e+00,  9.08151155e-01],\n",
       "       [-1.95575053e+00,  8.61631686e+00],\n",
       "       [-1.74572014e+00,  3.01190457e+00],\n",
       "       [-1.17979111e+00,  3.12767494e+00],\n",
       "       [ 1.16411070e+00,  3.79132988e+00],\n",
       "       [ 1.36155806e+00,  1.36638252e+00],\n",
       "       [ 2.60137487e+00,  1.08799459e+00],\n",
       "       [ 2.72396035e-01,  5.46996004e+00],\n",
       "       [-3.12240736e+00,  3.28167398e+00],\n",
       "       [-5.88085172e-01,  8.61427320e+00],\n",
       "       [ 1.66909648e+00, -4.36378231e-01],\n",
       "       [-6.82774903e-01,  7.67490317e+00],\n",
       "       [ 2.36790645e+00,  5.52190878e-01],\n",
       "       [ 1.05241733e+00,  4.54498095e+00],\n",
       "       [ 2.22707373e+00,  1.26296996e+00],\n",
       "       [ 2.43934644e+00, -7.25099666e-02],\n",
       "       [ 1.34471770e+00,  4.85711133e+00],\n",
       "       [-1.31454942e+00,  6.83904013e+00],\n",
       "       [ 9.82570091e-01,  5.37530962e+00],\n",
       "       [-1.06295223e+00,  2.20755388e+00],\n",
       "       [-1.60712495e+00,  3.56452854e+00],\n",
       "       [ 1.57322172e+00,  4.83933793e-01],\n",
       "       [-2.17851338e+00,  8.08585131e+00],\n",
       "       [ 1.83375842e+00,  7.54036153e-01],\n",
       "       [ 2.10616050e+00,  3.49513189e+00],\n",
       "       [-1.64338755e+00,  7.52691964e+00],\n",
       "       [ 1.10550448e+00,  1.26389129e+00],\n",
       "       [ 1.61152972e+00,  1.82347242e+00],\n",
       "       [ 4.59534668e-01,  5.44982630e+00],\n",
       "       [-5.38023054e-01,  3.01641891e+00],\n",
       "       [ 1.67841499e+00,  6.09047389e-01],\n",
       "       [-1.01214966e+00,  3.60254338e+00],\n",
       "       [ 1.34195197e+00,  5.93573847e-01],\n",
       "       [ 1.42811550e+00,  1.62435083e+00],\n",
       "       [ 2.04505527e+00,  1.12515470e+00],\n",
       "       [ 1.67280531e+00,  6.59300571e-01],\n",
       "       [-1.35863899e+00,  2.32200809e+00],\n",
       "       [ 1.13078931e+00,  9.35620856e-01],\n",
       "       [-1.73896306e+00,  1.94799775e+00],\n",
       "       [-3.40258925e-01,  8.16733925e+00],\n",
       "       [-1.63793622e+00,  2.43329317e+00],\n",
       "       [-1.68754414e+00,  2.24107546e+00],\n",
       "       [ 2.43040639e+00, -6.35709334e-02],\n",
       "       [-1.37998039e+00,  7.18503804e+00],\n",
       "       [-1.25245465e+00,  2.33911505e+00],\n",
       "       [-2.39482483e+00,  3.39806103e+00],\n",
       "       [-2.09183352e+00,  7.48142543e+00],\n",
       "       [ 4.88382309e-01,  3.26801777e+00],\n",
       "       [-5.39428614e-01,  7.45631776e+00],\n",
       "       [-2.59201821e+00,  8.07635945e+00],\n",
       "       [-1.04656513e+00,  2.96483837e+00],\n",
       "       [ 1.25566754e+00,  3.38204112e+00],\n",
       "       [-1.62150422e+00,  4.27191636e+00],\n",
       "       [ 1.86922139e+00,  5.44132083e+00],\n",
       "       [-1.76404140e+00,  2.22222995e+00],\n",
       "       [-1.38181918e+00,  7.28761248e+00],\n",
       "       [ 7.93137001e-03,  4.17614316e+00],\n",
       "       [-1.10298500e+00,  7.30222786e+00],\n",
       "       [-1.79351372e+00,  7.58086944e+00],\n",
       "       [-1.51176949e+00,  7.94426307e+00],\n",
       "       [ 9.59360742e-01,  4.56078645e+00],\n",
       "       [-6.01337393e-01,  6.29994922e+00],\n",
       "       [ 2.24592863e-01,  4.77028154e+00],\n",
       "       [ 1.56724897e+00,  1.78090633e-02],\n",
       "       [-1.03395259e+00,  2.92105785e+00],\n",
       "       [-9.22268640e-01,  8.09888579e+00],\n",
       "       [-1.88609638e+00,  2.24834407e+00],\n",
       "       [ 1.86873582e+00,  9.56103760e-01],\n",
       "       [ 1.10123507e+00,  4.88977075e+00],\n",
       "       [-1.93213725e+00,  8.30643453e+00],\n",
       "       [ 6.70478769e-01,  4.04094275e+00],\n",
       "       [ 7.43873988e-01,  4.12240568e+00],\n",
       "       [ 1.64003761e+00,  1.81948989e+00],\n",
       "       [ 8.15468056e-01,  4.78526116e+00],\n",
       "       [-2.63274574e+00,  2.63109786e+00],\n",
       "       [-9.61076361e-01,  1.27407596e+00],\n",
       "       [ 2.13979079e-01,  4.88542535e+00],\n",
       "       [ 1.43472182e+00,  1.30662037e+00],\n",
       "       [ 1.21387411e+00,  3.64795042e+00],\n",
       "       [ 1.08272576e+00,  4.06271877e+00],\n",
       "       [-1.22605234e+00,  8.29620146e+00],\n",
       "       [ 1.48170052e+00,  6.90074595e-01],\n",
       "       [ 1.89593761e+00,  5.18540259e+00],\n",
       "       [-1.32356154e+00,  4.13050840e+00],\n",
       "       [-1.14989863e+00,  7.89325283e+00],\n",
       "       [ 2.46915842e+00,  1.67877140e+00],\n",
       "       [ 2.31102276e+00,  1.30380848e+00],\n",
       "       [ 5.72793810e-01,  4.08805543e+00],\n",
       "       [-9.67794989e-01,  3.12186125e+00],\n",
       "       [ 2.62492001e+00,  9.50194405e-01],\n",
       "       [ 1.68353782e+00,  4.19583243e+00],\n",
       "       [-2.22131717e+00,  2.73050691e+00],\n",
       "       [-1.57846247e+00,  3.03445802e+00],\n",
       "       [ 8.15155229e-02,  4.56742235e+00],\n",
       "       [ 1.43289271e+00,  4.37679234e+00],\n",
       "       [ 1.06269622e+00,  5.17635143e+00],\n",
       "       [ 7.67522789e-01,  4.39759671e+00],\n",
       "       [ 2.47019077e+00,  1.31451315e+00],\n",
       "       [-1.73163168e+00,  7.16447286e+00],\n",
       "       [ 3.47138300e-01,  3.45177657e+00],\n",
       "       [-1.00140436e+00,  2.84881778e+00],\n",
       "       [ 1.01618041e+00,  4.48527047e+00],\n",
       "       [ 5.59529363e-01,  4.21400660e+00],\n",
       "       [-2.11821046e+00,  2.03478126e+00],\n",
       "       [-1.36219420e+00,  2.38333321e+00],\n",
       "       [-2.78366586e+00,  2.99211541e+00],\n",
       "       [ 1.65225163e+00,  3.65582842e+00],\n",
       "       [-1.93960658e+00,  2.18943582e+00],\n",
       "       [-1.81487687e+00,  7.97832190e+00],\n",
       "       [ 1.20212540e+00,  3.64414685e+00],\n",
       "       [-9.69200946e-01,  3.26721702e+00],\n",
       "       [ 1.86985974e+00, -1.07938624e-01],\n",
       "       [-1.80701134e+00,  2.06773859e+00],\n",
       "       [ 1.21767506e+00,  3.89290127e+00],\n",
       "       [-1.48368917e+00,  6.00777418e+00],\n",
       "       [-1.56387985e+00,  2.85349910e+00],\n",
       "       [-6.86210297e-01,  8.68285664e+00],\n",
       "       [ 1.07627418e+00,  4.68480619e+00],\n",
       "       [-9.75986627e-01,  6.73761577e+00],\n",
       "       [ 1.37964693e+00,  4.54826443e+00],\n",
       "       [-1.64129611e+00,  2.68097255e+00],\n",
       "       [-1.84892963e-03,  4.58145668e+00],\n",
       "       [ 1.71444449e+00,  5.02521524e+00],\n",
       "       [-1.40524304e+00,  7.72611315e+00],\n",
       "       [-7.08184904e-01,  2.50421275e+00],\n",
       "       [-8.85798374e-01,  2.64585078e+00],\n",
       "       [ 1.98436909e+00,  4.89556738e-01],\n",
       "       [ 2.95195825e+00, -3.44327355e-01],\n",
       "       [ 4.31891060e-01,  4.33495456e+00],\n",
       "       [-1.86621694e+00,  7.62549400e+00],\n",
       "       [ 2.52706430e+00,  6.17812202e-01],\n",
       "       [ 2.04067185e+00,  4.54845114e-01],\n",
       "       [-2.58043836e+00,  3.18844294e+00],\n",
       "       [ 1.61990909e+00,  6.76452867e-02],\n",
       "       [-2.58802708e+00,  3.13117134e+00],\n",
       "       [ 4.43598630e-01,  3.11530945e+00],\n",
       "       [-4.56773649e-01,  7.30600872e+00],\n",
       "       [-1.12867566e+00,  7.80509789e+00],\n",
       "       [ 2.13003529e+00,  5.19209620e+00],\n",
       "       [ 1.00372519e+00,  4.19147702e+00],\n",
       "       [-1.39346767e+00,  8.74641672e+00],\n",
       "       [ 7.28098690e-01,  3.85531444e+00],\n",
       "       [ 8.93499638e-01,  1.01093082e+00],\n",
       "       [-1.10782972e+00,  2.92014479e+00],\n",
       "       [ 7.89338559e-01,  4.33748653e+00],\n",
       "       [ 1.97553917e+00,  7.18989132e-01],\n",
       "       [-1.24902582e+00,  3.08533972e+00],\n",
       "       [-1.07768797e+00,  8.88106128e+00],\n",
       "       [-1.86849125e+00,  3.07982487e+00],\n",
       "       [ 2.76808540e+00,  1.08782923e+00],\n",
       "       [ 2.77180174e-01,  4.84428322e+00],\n",
       "       [ 3.41085289e+00,  8.72309369e-01],\n",
       "       [-1.58084155e+00,  7.55307742e+00],\n",
       "       [-1.53027550e+00,  7.70542113e+00],\n",
       "       [-1.82455840e+00,  7.35958960e+00],\n",
       "       [-1.68568257e+00,  7.95339446e+00],\n",
       "       [-1.65104622e+00,  3.44598961e+00],\n",
       "       [-1.30440901e+00,  3.00311934e+00],\n",
       "       [-7.30698168e-01,  6.24208856e+00],\n",
       "       [ 2.40615694e+00,  4.87047502e+00],\n",
       "       [-1.53631328e+00,  3.01443916e+00],\n",
       "       [ 1.48859977e+00,  6.51633844e-01],\n",
       "       [ 5.14320434e-01,  4.62733684e+00],\n",
       "       [-1.81469750e+00,  3.29009724e+00],\n",
       "       [-1.93731055e+00,  3.91361274e+00],\n",
       "       [-6.14907097e-01,  3.94963585e+00],\n",
       "       [ 2.03169783e+00,  1.96807561e-01],\n",
       "       [ 2.14917144e+00,  1.03697228e+00],\n",
       "       [-1.36999388e+00,  7.76953035e+00],\n",
       "       [ 9.14338767e-01,  4.55014643e+00],\n",
       "       [ 3.33818506e-01,  4.93645836e+00],\n",
       "       [-2.15968109e+00,  3.41003096e+00],\n",
       "       [ 1.36678633e+00,  6.34971633e-01],\n",
       "       [-5.71099336e-01,  8.13306058e+00],\n",
       "       [-1.00552592e+00,  3.08400540e+00],\n",
       "       [ 1.49493180e+00,  3.85848832e+00],\n",
       "       [-5.90447667e-01,  7.69493053e+00],\n",
       "       [ 7.15177948e-01,  5.41334556e+00],\n",
       "       [ 2.11390250e+00,  1.24743587e+00],\n",
       "       [ 1.20083098e+00,  6.01671730e-01],\n",
       "       [-2.54576750e+00,  3.15025055e+00],\n",
       "       [-1.95866665e+00,  2.43008647e+00],\n",
       "       [ 2.33812285e+00,  3.43116792e+00],\n",
       "       [ 3.35320909e+00,  1.69958043e+00],\n",
       "       [ 1.84287117e+00,  7.26928839e-02],\n",
       "       [ 1.32000621e+00,  1.40428145e+00],\n",
       "       [ 2.09680545e+00,  4.84741412e+00],\n",
       "       [-1.24307904e+00,  8.15166254e+00],\n",
       "       [-1.85908090e+00,  7.78874716e+00],\n",
       "       [ 2.74666646e+00,  1.54543482e+00],\n",
       "       [ 2.60778282e+00,  1.08890025e+00],\n",
       "       [ 1.65991049e+00,  3.56289184e+00],\n",
       "       [ 2.35151259e+00,  8.28001297e-01],\n",
       "       [ 2.22322228e+00,  8.38773426e-01],\n",
       "       [ 3.22881491e+00,  1.13171965e+00],\n",
       "       [-1.55876720e+00,  7.24816210e+00],\n",
       "       [-6.46956784e-01,  3.42941343e+00],\n",
       "       [-1.32688818e+00,  8.51530794e+00],\n",
       "       [ 9.17198564e-01,  3.90570036e+00],\n",
       "       [ 2.29469533e+00, -7.65891994e-01],\n",
       "       [ 1.81559810e+00,  1.11969719e+00],\n",
       "       [-1.12016775e+00,  7.11031582e+00],\n",
       "       [-1.65507124e+00,  8.61416749e+00],\n",
       "       [-1.27567815e+00,  7.96776461e+00],\n",
       "       [ 1.97369770e+00,  1.57979848e+00],\n",
       "       [ 2.51834185e+00,  1.39176615e+00],\n",
       "       [ 4.38990142e-01,  4.53592883e+00],\n",
       "       [ 3.69478657e-01,  7.79110522e+00],\n",
       "       [-1.79145759e+00,  2.74966896e+00]])"
      ]
     },
     "execution_count": 76,
     "metadata": {},
     "output_type": "execute_result"
    }
   ],
   "source": [
    "X"
   ]
  },
  {
   "cell_type": "code",
   "execution_count": 56,
   "metadata": {},
   "outputs": [
    {
     "data": {
      "text/plain": [
       "array([1, 3, 0, 3, 1, 1, 2, 0, 3, 3, 2, 3, 0, 3, 1, 0, 0, 1, 2, 2, 1, 1,\n",
       "       0, 2, 2, 0, 1, 0, 2, 0, 3, 3, 0, 3, 3, 3, 3, 3, 2, 1, 0, 2, 0, 0,\n",
       "       2, 2, 3, 2, 3, 1, 2, 1, 3, 1, 1, 2, 3, 2, 3, 1, 3, 0, 3, 2, 2, 2,\n",
       "       3, 1, 3, 2, 0, 2, 3, 2, 2, 3, 2, 0, 1, 3, 1, 0, 1, 1, 3, 0, 1, 0,\n",
       "       3, 3, 0, 1, 3, 2, 2, 0, 1, 1, 0, 2, 3, 1, 3, 1, 0, 1, 1, 0, 3, 0,\n",
       "       2, 2, 1, 3, 1, 0, 3, 1, 1, 0, 2, 1, 2, 1, 1, 1, 1, 2, 1, 2, 3, 2,\n",
       "       2, 1, 3, 2, 2, 3, 0, 3, 3, 2, 0, 2, 0, 2, 3, 0, 3, 3, 3, 0, 3, 0,\n",
       "       1, 2, 3, 2, 1, 0, 3, 0, 0, 1, 0, 2, 2, 0, 1, 0, 0, 3, 1, 0, 2, 3,\n",
       "       1, 1, 0, 2, 1, 0, 2, 2, 0, 0, 0, 0, 1, 3, 0, 2, 0, 0, 2, 2, 2, 0,\n",
       "       2, 3, 0, 2, 1, 2, 0, 3, 2, 3, 0, 3, 0, 2, 0, 0, 3, 2, 2, 1, 1, 0,\n",
       "       3, 1, 1, 2, 1, 2, 0, 3, 3, 0, 0, 3, 0, 1, 2, 0, 1, 2, 3, 2, 1, 0,\n",
       "       1, 3, 3, 3, 3, 2, 2, 3, 0, 2, 1, 0, 2, 2, 2, 1, 1, 3, 0, 0, 2, 1,\n",
       "       3, 2, 0, 3, 0, 1, 1, 2, 2, 0, 1, 1, 1, 0, 3, 3, 1, 1, 0, 1, 1, 1,\n",
       "       3, 2, 3, 0, 1, 1, 3, 3, 3, 1, 1, 0, 3, 2])"
      ]
     },
     "execution_count": 56,
     "metadata": {},
     "output_type": "execute_result"
    }
   ],
   "source": [
    "y_true"
   ]
  },
  {
   "cell_type": "code",
   "execution_count": 54,
   "metadata": {},
   "outputs": [
    {
     "data": {
      "text/plain": [
       "array([[ 8.36856841e-01,  2.13635938e+00],\n",
       "       [-1.41365810e+00,  7.40962324e+00],\n",
       "       [ 1.15521298e+00,  5.09961887e+00],\n",
       "       [-1.01861632e+00,  7.81491465e+00],\n",
       "       [ 1.27135141e+00,  1.89254207e+00],\n",
       "       [ 3.43761754e+00,  2.61654166e-01],\n",
       "       [-1.80822253e+00,  1.59701749e+00],\n",
       "       [ 1.41372442e+00,  4.38117707e+00],\n",
       "       [-2.04932168e-01,  8.43209665e+00],\n",
       "       [-7.11099611e-01,  8.66043846e+00],\n",
       "       [-1.71237268e+00,  2.77780226e+00],\n",
       "       [-2.67000792e+00,  8.35389140e+00],\n",
       "       [ 1.24258802e+00,  4.50399192e+00],\n",
       "       [-2.22783649e+00,  6.89479938e+00],\n",
       "       [ 1.45513831e+00, -2.91989981e-02],\n",
       "       [ 4.53791789e-01,  3.95647753e+00],\n",
       "       [ 1.06923853e+00,  4.53068484e+00],\n",
       "       [ 2.56936589e+00,  5.07048304e-01],\n",
       "       [-1.06690610e+00,  3.13165795e+00],\n",
       "       [-1.07859101e+00,  2.20451529e+00],\n",
       "       [ 2.71506328e+00,  1.29082190e+00],\n",
       "       [ 1.77710994e+00,  1.18655254e+00],\n",
       "       [ 7.34363910e-01,  5.03725437e+00],\n",
       "       [-1.99648151e+00,  2.85164868e+00],\n",
       "       [-1.91828017e+00,  2.60516867e+00],\n",
       "       [-5.55523811e-01,  4.69595848e+00],\n",
       "       [ 1.69747910e+00,  8.66123282e-01],\n",
       "       [ 5.94762432e-01,  4.70964730e+00],\n",
       "       [-2.88024255e+00,  2.30437816e+00],\n",
       "       [ 1.86725632e-01,  4.02683656e+00],\n",
       "       [-5.13333436e-01,  7.87437368e+00],\n",
       "       [-2.05701103e+00,  7.37851598e+00],\n",
       "       [ 1.87271752e+00,  4.18069237e+00],\n",
       "       [-1.13121396e+00,  6.76652230e+00],\n",
       "       [-1.64428957e+00,  7.94095139e+00],\n",
       "       [-2.41933824e+00,  7.43952498e+00],\n",
       "       [-2.01606928e+00,  7.48420129e+00],\n",
       "       [-2.62142780e+00,  7.98635066e+00],\n",
       "       [-2.20299950e+00,  2.47947561e+00],\n",
       "       [ 1.66382237e+00,  6.63091635e-01],\n",
       "       [ 6.69786996e-01,  3.59540802e+00],\n",
       "       [-1.98539037e+00,  2.05520738e+00],\n",
       "       [-4.74920358e-02,  5.47425256e+00],\n",
       "       [ 1.54462126e+00,  4.21078127e+00],\n",
       "       [-1.70200643e+00,  2.46098693e+00],\n",
       "       [-1.02192525e+00,  2.76820711e+00],\n",
       "       [-1.37842552e+00,  8.10269597e+00],\n",
       "       [-1.55220688e+00,  2.74574995e+00],\n",
       "       [-1.47904303e+00,  7.56915836e+00],\n",
       "       [ 1.98894313e+00,  1.50976729e+00],\n",
       "       [-1.94972418e+00,  3.48383870e+00],\n",
       "       [ 2.45509737e+00,  6.21231788e-01],\n",
       "       [-8.94327882e-01,  7.61714473e+00],\n",
       "       [ 1.69687788e+00,  7.54910622e-01],\n",
       "       [ 1.75644805e+00,  2.05538289e+00],\n",
       "       [-1.11064012e+00,  2.82213820e+00],\n",
       "       [-4.15017659e-02,  7.80870276e+00],\n",
       "       [-1.14091533e+00,  1.97550822e+00],\n",
       "       [-1.80634968e+00,  7.72830656e+00],\n",
       "       [ 1.39263752e+00,  9.28962707e-01],\n",
       "       [-2.25698670e+00,  7.30207720e+00],\n",
       "       [ 5.71670482e-01,  4.32288566e+00],\n",
       "       [-1.54994580e+00,  9.28293222e+00],\n",
       "       [-1.03819212e+00,  2.95323761e+00],\n",
       "       [-2.10956676e+00,  3.10677258e+00],\n",
       "       [-1.18652985e+00,  2.78427720e+00],\n",
       "       [-2.45809975e+00,  7.51178724e+00],\n",
       "       [ 2.36960214e+00,  9.50716912e-01],\n",
       "       [-2.66676007e+00,  7.84766052e+00],\n",
       "       [-1.49720702e+00,  3.21418433e+00],\n",
       "       [ 1.32222457e+00,  4.17880807e+00],\n",
       "       [-4.87271301e-01,  3.32858293e+00],\n",
       "       [-1.03718771e+00,  8.06300134e+00],\n",
       "       [-1.60496819e+00,  2.97425420e+00],\n",
       "       [-1.50372568e+00,  1.92385320e+00],\n",
       "       [-7.85412206e-01,  8.45312331e+00],\n",
       "       [-1.75783190e+00,  2.97449321e+00],\n",
       "       [ 1.19008992e+00,  4.72773123e+00],\n",
       "       [ 2.14043942e+00,  7.06066610e-01],\n",
       "       [-1.03540116e+00,  8.20559195e+00],\n",
       "       [ 1.25471244e+00,  8.96331565e-02],\n",
       "       [ 5.95676822e-01,  4.08614263e+00],\n",
       "       [ 1.27955338e+00,  1.05789418e+00],\n",
       "       [ 1.72955064e+00,  1.14729369e+00],\n",
       "       [-9.49041610e-01,  8.46424331e+00],\n",
       "       [ 9.35325115e-01,  5.33179296e+00],\n",
       "       [ 2.36923352e+00,  7.94735861e-01],\n",
       "       [ 4.28576743e-01,  4.97399710e+00],\n",
       "       [-2.04758277e+00,  6.65428520e+00],\n",
       "       [-1.45672617e+00,  7.48669893e+00],\n",
       "       [ 5.29417185e-01,  3.80792420e+00],\n",
       "       [ 1.78194802e+00,  9.08151155e-01],\n",
       "       [-1.95575053e+00,  8.61631686e+00],\n",
       "       [-1.74572014e+00,  3.01190457e+00],\n",
       "       [-1.17979111e+00,  3.12767494e+00],\n",
       "       [ 1.16411070e+00,  3.79132988e+00],\n",
       "       [ 1.36155806e+00,  1.36638252e+00],\n",
       "       [ 2.60137487e+00,  1.08799459e+00],\n",
       "       [ 2.72396035e-01,  5.46996004e+00],\n",
       "       [-3.12240736e+00,  3.28167398e+00],\n",
       "       [-5.88085172e-01,  8.61427320e+00],\n",
       "       [ 1.66909648e+00, -4.36378231e-01],\n",
       "       [-6.82774903e-01,  7.67490317e+00],\n",
       "       [ 2.36790645e+00,  5.52190878e-01],\n",
       "       [ 1.05241733e+00,  4.54498095e+00],\n",
       "       [ 2.22707373e+00,  1.26296996e+00],\n",
       "       [ 2.43934644e+00, -7.25099666e-02],\n",
       "       [ 1.34471770e+00,  4.85711133e+00],\n",
       "       [-1.31454942e+00,  6.83904013e+00],\n",
       "       [ 9.82570091e-01,  5.37530962e+00],\n",
       "       [-1.06295223e+00,  2.20755388e+00],\n",
       "       [-1.60712495e+00,  3.56452854e+00],\n",
       "       [ 1.57322172e+00,  4.83933793e-01],\n",
       "       [-2.17851338e+00,  8.08585131e+00],\n",
       "       [ 1.83375842e+00,  7.54036153e-01],\n",
       "       [ 2.10616050e+00,  3.49513189e+00],\n",
       "       [-1.64338755e+00,  7.52691964e+00],\n",
       "       [ 1.10550448e+00,  1.26389129e+00],\n",
       "       [ 1.61152972e+00,  1.82347242e+00],\n",
       "       [ 4.59534668e-01,  5.44982630e+00],\n",
       "       [-5.38023054e-01,  3.01641891e+00],\n",
       "       [ 1.67841499e+00,  6.09047389e-01],\n",
       "       [-1.01214966e+00,  3.60254338e+00],\n",
       "       [ 1.34195197e+00,  5.93573847e-01],\n",
       "       [ 1.42811550e+00,  1.62435083e+00],\n",
       "       [ 2.04505527e+00,  1.12515470e+00],\n",
       "       [ 1.67280531e+00,  6.59300571e-01],\n",
       "       [-1.35863899e+00,  2.32200809e+00],\n",
       "       [ 1.13078931e+00,  9.35620856e-01],\n",
       "       [-1.73896306e+00,  1.94799775e+00],\n",
       "       [-3.40258925e-01,  8.16733925e+00],\n",
       "       [-1.63793622e+00,  2.43329317e+00],\n",
       "       [-1.68754414e+00,  2.24107546e+00],\n",
       "       [ 2.43040639e+00, -6.35709334e-02],\n",
       "       [-1.37998039e+00,  7.18503804e+00],\n",
       "       [-1.25245465e+00,  2.33911505e+00],\n",
       "       [-2.39482483e+00,  3.39806103e+00],\n",
       "       [-2.09183352e+00,  7.48142543e+00],\n",
       "       [ 4.88382309e-01,  3.26801777e+00],\n",
       "       [-5.39428614e-01,  7.45631776e+00],\n",
       "       [-2.59201821e+00,  8.07635945e+00],\n",
       "       [-1.04656513e+00,  2.96483837e+00],\n",
       "       [ 1.25566754e+00,  3.38204112e+00],\n",
       "       [-1.62150422e+00,  4.27191636e+00],\n",
       "       [ 1.86922139e+00,  5.44132083e+00],\n",
       "       [-1.76404140e+00,  2.22222995e+00],\n",
       "       [-1.38181918e+00,  7.28761248e+00],\n",
       "       [ 7.93137001e-03,  4.17614316e+00],\n",
       "       [-1.10298500e+00,  7.30222786e+00],\n",
       "       [-1.79351372e+00,  7.58086944e+00],\n",
       "       [-1.51176949e+00,  7.94426307e+00],\n",
       "       [ 9.59360742e-01,  4.56078645e+00],\n",
       "       [-6.01337393e-01,  6.29994922e+00],\n",
       "       [ 2.24592863e-01,  4.77028154e+00],\n",
       "       [ 1.56724897e+00,  1.78090633e-02],\n",
       "       [-1.03395259e+00,  2.92105785e+00],\n",
       "       [-9.22268640e-01,  8.09888579e+00],\n",
       "       [-1.88609638e+00,  2.24834407e+00],\n",
       "       [ 1.86873582e+00,  9.56103760e-01],\n",
       "       [ 1.10123507e+00,  4.88977075e+00],\n",
       "       [-1.93213725e+00,  8.30643453e+00],\n",
       "       [ 6.70478769e-01,  4.04094275e+00],\n",
       "       [ 7.43873988e-01,  4.12240568e+00],\n",
       "       [ 1.64003761e+00,  1.81948989e+00],\n",
       "       [ 8.15468056e-01,  4.78526116e+00],\n",
       "       [-2.63274574e+00,  2.63109786e+00],\n",
       "       [-9.61076361e-01,  1.27407596e+00],\n",
       "       [ 2.13979079e-01,  4.88542535e+00],\n",
       "       [ 1.43472182e+00,  1.30662037e+00],\n",
       "       [ 1.21387411e+00,  3.64795042e+00],\n",
       "       [ 1.08272576e+00,  4.06271877e+00],\n",
       "       [-1.22605234e+00,  8.29620146e+00],\n",
       "       [ 1.48170052e+00,  6.90074595e-01],\n",
       "       [ 1.89593761e+00,  5.18540259e+00],\n",
       "       [-1.32356154e+00,  4.13050840e+00],\n",
       "       [-1.14989863e+00,  7.89325283e+00],\n",
       "       [ 2.46915842e+00,  1.67877140e+00],\n",
       "       [ 2.31102276e+00,  1.30380848e+00],\n",
       "       [ 5.72793810e-01,  4.08805543e+00],\n",
       "       [-9.67794989e-01,  3.12186125e+00],\n",
       "       [ 2.62492001e+00,  9.50194405e-01],\n",
       "       [ 1.68353782e+00,  4.19583243e+00],\n",
       "       [-2.22131717e+00,  2.73050691e+00],\n",
       "       [-1.57846247e+00,  3.03445802e+00],\n",
       "       [ 8.15155229e-02,  4.56742235e+00],\n",
       "       [ 1.43289271e+00,  4.37679234e+00],\n",
       "       [ 1.06269622e+00,  5.17635143e+00],\n",
       "       [ 7.67522789e-01,  4.39759671e+00],\n",
       "       [ 2.47019077e+00,  1.31451315e+00],\n",
       "       [-1.73163168e+00,  7.16447286e+00],\n",
       "       [ 3.47138300e-01,  3.45177657e+00],\n",
       "       [-1.00140436e+00,  2.84881778e+00],\n",
       "       [ 1.01618041e+00,  4.48527047e+00],\n",
       "       [ 5.59529363e-01,  4.21400660e+00],\n",
       "       [-2.11821046e+00,  2.03478126e+00],\n",
       "       [-1.36219420e+00,  2.38333321e+00],\n",
       "       [-2.78366586e+00,  2.99211541e+00],\n",
       "       [ 1.65225163e+00,  3.65582842e+00],\n",
       "       [-1.93960658e+00,  2.18943582e+00],\n",
       "       [-1.81487687e+00,  7.97832190e+00],\n",
       "       [ 1.20212540e+00,  3.64414685e+00],\n",
       "       [-9.69200946e-01,  3.26721702e+00],\n",
       "       [ 1.86985974e+00, -1.07938624e-01],\n",
       "       [-1.80701134e+00,  2.06773859e+00],\n",
       "       [ 1.21767506e+00,  3.89290127e+00],\n",
       "       [-1.48368917e+00,  6.00777418e+00],\n",
       "       [-1.56387985e+00,  2.85349910e+00],\n",
       "       [-6.86210297e-01,  8.68285664e+00],\n",
       "       [ 1.07627418e+00,  4.68480619e+00],\n",
       "       [-9.75986627e-01,  6.73761577e+00],\n",
       "       [ 1.37964693e+00,  4.54826443e+00],\n",
       "       [-1.64129611e+00,  2.68097255e+00],\n",
       "       [-1.84892963e-03,  4.58145668e+00],\n",
       "       [ 1.71444449e+00,  5.02521524e+00],\n",
       "       [-1.40524304e+00,  7.72611315e+00],\n",
       "       [-7.08184904e-01,  2.50421275e+00],\n",
       "       [-8.85798374e-01,  2.64585078e+00],\n",
       "       [ 1.98436909e+00,  4.89556738e-01],\n",
       "       [ 2.95195825e+00, -3.44327355e-01],\n",
       "       [ 4.31891060e-01,  4.33495456e+00],\n",
       "       [-1.86621694e+00,  7.62549400e+00],\n",
       "       [ 2.52706430e+00,  6.17812202e-01],\n",
       "       [ 2.04067185e+00,  4.54845114e-01],\n",
       "       [-2.58043836e+00,  3.18844294e+00],\n",
       "       [ 1.61990909e+00,  6.76452867e-02],\n",
       "       [-2.58802708e+00,  3.13117134e+00],\n",
       "       [ 4.43598630e-01,  3.11530945e+00],\n",
       "       [-4.56773649e-01,  7.30600872e+00],\n",
       "       [-1.12867566e+00,  7.80509789e+00],\n",
       "       [ 2.13003529e+00,  5.19209620e+00],\n",
       "       [ 1.00372519e+00,  4.19147702e+00],\n",
       "       [-1.39346767e+00,  8.74641672e+00],\n",
       "       [ 7.28098690e-01,  3.85531444e+00],\n",
       "       [ 8.93499638e-01,  1.01093082e+00],\n",
       "       [-1.10782972e+00,  2.92014479e+00],\n",
       "       [ 7.89338559e-01,  4.33748653e+00],\n",
       "       [ 1.97553917e+00,  7.18989132e-01],\n",
       "       [-1.24902582e+00,  3.08533972e+00],\n",
       "       [-1.07768797e+00,  8.88106128e+00],\n",
       "       [-1.86849125e+00,  3.07982487e+00],\n",
       "       [ 2.76808540e+00,  1.08782923e+00],\n",
       "       [ 2.77180174e-01,  4.84428322e+00],\n",
       "       [ 3.41085289e+00,  8.72309369e-01],\n",
       "       [-1.58084155e+00,  7.55307742e+00],\n",
       "       [-1.53027550e+00,  7.70542113e+00],\n",
       "       [-1.82455840e+00,  7.35958960e+00],\n",
       "       [-1.68568257e+00,  7.95339446e+00],\n",
       "       [-1.65104622e+00,  3.44598961e+00],\n",
       "       [-1.30440901e+00,  3.00311934e+00],\n",
       "       [-7.30698168e-01,  6.24208856e+00],\n",
       "       [ 2.40615694e+00,  4.87047502e+00],\n",
       "       [-1.53631328e+00,  3.01443916e+00],\n",
       "       [ 1.48859977e+00,  6.51633844e-01],\n",
       "       [ 5.14320434e-01,  4.62733684e+00],\n",
       "       [-1.81469750e+00,  3.29009724e+00],\n",
       "       [-1.93731055e+00,  3.91361274e+00],\n",
       "       [-6.14907097e-01,  3.94963585e+00],\n",
       "       [ 2.03169783e+00,  1.96807561e-01],\n",
       "       [ 2.14917144e+00,  1.03697228e+00],\n",
       "       [-1.36999388e+00,  7.76953035e+00],\n",
       "       [ 9.14338767e-01,  4.55014643e+00],\n",
       "       [ 3.33818506e-01,  4.93645836e+00],\n",
       "       [-2.15968109e+00,  3.41003096e+00],\n",
       "       [ 1.36678633e+00,  6.34971633e-01],\n",
       "       [-5.71099336e-01,  8.13306058e+00],\n",
       "       [-1.00552592e+00,  3.08400540e+00],\n",
       "       [ 1.49493180e+00,  3.85848832e+00],\n",
       "       [-5.90447667e-01,  7.69493053e+00],\n",
       "       [ 7.15177948e-01,  5.41334556e+00],\n",
       "       [ 2.11390250e+00,  1.24743587e+00],\n",
       "       [ 1.20083098e+00,  6.01671730e-01],\n",
       "       [-2.54576750e+00,  3.15025055e+00],\n",
       "       [-1.95866665e+00,  2.43008647e+00],\n",
       "       [ 2.33812285e+00,  3.43116792e+00],\n",
       "       [ 3.35320909e+00,  1.69958043e+00],\n",
       "       [ 1.84287117e+00,  7.26928839e-02],\n",
       "       [ 1.32000621e+00,  1.40428145e+00],\n",
       "       [ 2.09680545e+00,  4.84741412e+00],\n",
       "       [-1.24307904e+00,  8.15166254e+00],\n",
       "       [-1.85908090e+00,  7.78874716e+00],\n",
       "       [ 2.74666646e+00,  1.54543482e+00],\n",
       "       [ 2.60778282e+00,  1.08890025e+00],\n",
       "       [ 1.65991049e+00,  3.56289184e+00],\n",
       "       [ 2.35151259e+00,  8.28001297e-01],\n",
       "       [ 2.22322228e+00,  8.38773426e-01],\n",
       "       [ 3.22881491e+00,  1.13171965e+00],\n",
       "       [-1.55876720e+00,  7.24816210e+00],\n",
       "       [-6.46956784e-01,  3.42941343e+00],\n",
       "       [-1.32688818e+00,  8.51530794e+00],\n",
       "       [ 9.17198564e-01,  3.90570036e+00],\n",
       "       [ 2.29469533e+00, -7.65891994e-01],\n",
       "       [ 1.81559810e+00,  1.11969719e+00],\n",
       "       [-1.12016775e+00,  7.11031582e+00],\n",
       "       [-1.65507124e+00,  8.61416749e+00],\n",
       "       [-1.27567815e+00,  7.96776461e+00],\n",
       "       [ 1.97369770e+00,  1.57979848e+00],\n",
       "       [ 2.51834185e+00,  1.39176615e+00],\n",
       "       [ 4.38990142e-01,  4.53592883e+00],\n",
       "       [ 3.69478657e-01,  7.79110522e+00],\n",
       "       [-1.79145759e+00,  2.74966896e+00]])"
      ]
     },
     "execution_count": 54,
     "metadata": {},
     "output_type": "execute_result"
    }
   ],
   "source": [
    "X"
   ]
  },
  {
   "cell_type": "code",
   "execution_count": 39,
   "metadata": {},
   "outputs": [],
   "source": [
    "model = KMeans(n_clusters=12, random_state=0)\n",
    "labels = model.fit_predict(X)"
   ]
  },
  {
   "cell_type": "code",
   "execution_count": 40,
   "metadata": {},
   "outputs": [
    {
     "data": {
      "text/plain": [
       "(12, 2)"
      ]
     },
     "execution_count": 40,
     "metadata": {},
     "output_type": "execute_result"
    }
   ],
   "source": [
    "model.cluster_centers_.shape"
   ]
  },
  {
   "cell_type": "code",
   "execution_count": null,
   "metadata": {},
   "outputs": [],
   "source": [
    "model.cluster_centers_"
   ]
  },
  {
   "cell_type": "code",
   "execution_count": 87,
   "metadata": {},
   "outputs": [
    {
     "data": {
      "text/plain": [
       "Text(0.5, 1.0, 'The Elbow Method showing the optimal k')"
      ]
     },
     "execution_count": 87,
     "metadata": {},
     "output_type": "execute_result"
    },
    {
     "data": {
      "image/png": "[encoded data removed]",
      "text/plain": [
       "<Figure size 576x396 with 1 Axes>"
      ]
     },
     "metadata": {},
     "output_type": "display_data"
    }
   ],
   "source": [
    "distortions = []\n",
    "range_base = range(1, 12)\n",
    "\n",
    "for k in range_base:\n",
    "    kmeanModel = KMeans(n_clusters=k, random_state=0)\n",
    "    kmeanModel.fit(X)\n",
    "    \n",
    "    distortions.append(sum(np.min(cdist(X, kmeanModel.cluster_centers_, 'euclidean'), axis=1)) / X.shape[0])\n",
    "\n",
    "# Plot the elbow\n",
    "plt.plot(range_base, distortions, 'bx-')\n",
    "plt.xlabel('k')\n",
    "plt.ylabel('Distortion')\n",
    "plt.title('The Elbow Method showing the optimal k')"
   ]
  },
  {
   "cell_type": "code",
   "execution_count": 85,
   "metadata": {},
   "outputs": [
    {
     "data": {
      "image/png": "[encoded data removed]",
      "text/plain": [
       "<Figure size 576x396 with 2 Axes>"
      ]
     },
     "metadata": {},
     "output_type": "display_data"
    },
    {
     "data": {
      "text/plain": [
       "<AxesSubplot:title={'center':'Distortion Score Elbow for KMeans Clustering'}, xlabel='k', ylabel='distortion score'>"
      ]
     },
     "execution_count": 85,
     "metadata": {},
     "output_type": "execute_result"
    }
   ],
   "source": [
    "model = KMeans(random_state=0)\n",
    "\n",
    "visualizer = KElbowVisualizer(model, k=(1,13))\n",
    "visualizer.fit(X)\n",
    "visualizer.show()"
   ]
  },
  {
   "cell_type": "code",
   "execution_count": 90,
   "metadata": {},
   "outputs": [],
   "source": [
    "model = KMeans(n_clusters=4, random_state=0)\n",
    "y_pred = model.fit_predict(X)"
   ]
  },
  {
   "cell_type": "code",
   "execution_count": 91,
   "metadata": {},
   "outputs": [
    {
     "data": {
      "text/plain": [
       "array([0, 2, 1, 2, 0, 0, 3, 1, 2, 2, 3, 2, 1, 2, 0, 1, 1, 0, 3, 3, 0, 0,\n",
       "       1, 3, 3, 1, 0, 1, 3, 1, 2, 2, 1, 2, 2, 2, 2, 2, 3, 0, 1, 3, 1, 1,\n",
       "       3, 3, 2, 3, 2, 0, 3, 0, 2, 0, 0, 3, 2, 3, 2, 0, 2, 1, 2, 3, 3, 3,\n",
       "       2, 0, 2, 3, 1, 3, 2, 3, 3, 2, 3, 1, 0, 2, 0, 1, 0, 0, 2, 1, 0, 1,\n",
       "       2, 2, 1, 0, 2, 3, 3, 1, 0, 0, 1, 3, 2, 0, 2, 0, 1, 0, 0, 1, 2, 1,\n",
       "       3, 3, 0, 2, 0, 1, 2, 0, 0, 1, 3, 0, 3, 0, 0, 0, 0, 3, 0, 3, 2, 3,\n",
       "       3, 0, 2, 3, 3, 2, 1, 2, 2, 3, 1, 3, 1, 3, 2, 1, 2, 2, 2, 1, 2, 1,\n",
       "       0, 3, 2, 3, 0, 1, 2, 1, 1, 0, 1, 3, 3, 1, 0, 1, 1, 2, 0, 1, 3, 2,\n",
       "       0, 0, 1, 3, 0, 1, 3, 3, 1, 1, 1, 1, 0, 2, 1, 3, 1, 1, 3, 3, 3, 1,\n",
       "       3, 2, 1, 3, 0, 3, 1, 2, 3, 2, 1, 2, 1, 3, 1, 1, 2, 3, 3, 0, 0, 1,\n",
       "       2, 0, 0, 3, 0, 3, 1, 2, 2, 1, 1, 2, 1, 0, 3, 1, 0, 3, 2, 3, 0, 1,\n",
       "       0, 2, 2, 2, 2, 3, 3, 2, 1, 3, 0, 1, 3, 3, 3, 0, 0, 2, 1, 1, 3, 0,\n",
       "       2, 3, 1, 2, 1, 0, 0, 3, 3, 1, 0, 0, 0, 1, 2, 2, 0, 0, 1, 0, 0, 0,\n",
       "       2, 3, 2, 1, 0, 0, 2, 2, 2, 0, 0, 1, 2, 3])"
      ]
     },
     "execution_count": 91,
     "metadata": {},
     "output_type": "execute_result"
    }
   ],
   "source": [
    "y_pred"
   ]
  },
  {
   "cell_type": "code",
   "execution_count": null,
   "metadata": {},
   "outputs": [],
   "source": []
  },
  {
   "cell_type": "code",
   "execution_count": 46,
   "metadata": {},
   "outputs": [
    {
     "data": {
      "text/plain": [
       "(300,)"
      ]
     },
     "execution_count": 46,
     "metadata": {},
     "output_type": "execute_result"
    }
   ],
   "source": [
    "y_pred.shape"
   ]
  },
  {
   "cell_type": "code",
   "execution_count": 92,
   "metadata": {},
   "outputs": [],
   "source": [
    "mat = confusion_matrix(y_true, labels)"
   ]
  },
  {
   "cell_type": "code",
   "execution_count": 93,
   "metadata": {},
   "outputs": [
    {
     "data": {
      "text/plain": [
       "array([[75,  0,  0,  0],\n",
       "       [ 0, 75,  0,  0],\n",
       "       [ 0,  0, 75,  0],\n",
       "       [ 0,  0,  0, 75]], dtype=int64)"
      ]
     },
     "execution_count": 93,
     "metadata": {},
     "output_type": "execute_result"
    }
   ],
   "source": [
    "mat.T"
   ]
  },
  {
   "cell_type": "code",
   "execution_count": 94,
   "metadata": {},
   "outputs": [
    {
     "data": {
      "text/plain": [
       "array([1, 3, 0, 3, 1, 1, 2, 0, 3, 3, 2, 3, 0, 3, 1, 0, 0, 1, 2, 2, 1, 1,\n",
       "       0, 2, 2, 0, 1, 0, 2, 0, 3, 3, 0, 3, 3, 3, 3, 3, 2, 1, 0, 2, 0, 0,\n",
       "       2, 2, 3, 2, 3, 1, 2, 1, 3, 1, 1, 2, 3, 2, 3, 1, 3, 0, 3, 2, 2, 2,\n",
       "       3, 1, 3, 2, 0, 2, 3, 2, 2, 3, 2, 0, 1, 3, 1, 0, 1, 1, 3, 0, 1, 0,\n",
       "       3, 3, 0, 1, 3, 2, 2, 0, 1, 1, 0, 2, 3, 1, 3, 1, 0, 1, 1, 0, 3, 0,\n",
       "       2, 2, 1, 3, 1, 0, 3, 1, 1, 0, 2, 1, 2, 1, 1, 1, 1, 2, 1, 2, 3, 2,\n",
       "       2, 1, 3, 2, 2, 3, 0, 3, 3, 2, 0, 2, 0, 2, 3, 0, 3, 3, 3, 0, 3, 0,\n",
       "       1, 2, 3, 2, 1, 0, 3, 0, 0, 1, 0, 2, 2, 0, 1, 0, 0, 3, 1, 0, 2, 3,\n",
       "       1, 1, 0, 2, 1, 0, 2, 2, 0, 0, 0, 0, 1, 3, 0, 2, 0, 0, 2, 2, 2, 0,\n",
       "       2, 3, 0, 2, 1, 2, 0, 3, 2, 3, 0, 3, 0, 2, 0, 0, 3, 2, 2, 1, 1, 0,\n",
       "       3, 1, 1, 2, 1, 2, 0, 3, 3, 0, 0, 3, 0, 1, 2, 0, 1, 2, 3, 2, 1, 0,\n",
       "       1, 3, 3, 3, 3, 2, 2, 3, 0, 2, 1, 0, 2, 2, 2, 1, 1, 3, 0, 0, 2, 1,\n",
       "       3, 2, 0, 3, 0, 1, 1, 2, 2, 0, 1, 1, 1, 0, 3, 3, 1, 1, 0, 1, 1, 1,\n",
       "       3, 2, 3, 0, 1, 1, 3, 3, 3, 1, 1, 0, 3, 2])"
      ]
     },
     "execution_count": 94,
     "metadata": {},
     "output_type": "execute_result"
    }
   ],
   "source": [
    "y_true"
   ]
  },
  {
   "cell_type": "code",
   "execution_count": null,
   "metadata": {},
   "outputs": [],
   "source": []
  },
  {
   "cell_type": "code",
   "execution_count": 96,
   "metadata": {},
   "outputs": [
    {
     "data": {
      "image/png": "[encoded data removed]",
      "text/plain": [
       "<Figure size 576x396 with 1 Axes>"
      ]
     },
     "metadata": {},
     "output_type": "display_data"
    }
   ],
   "source": [
    "\n",
    "\n",
    "mat = confusion_matrix(y_true, y_pred)\n",
    "sns.heatmap(mat.T, square=True, annot=True, fmt='d', cbar=False,\n",
    "            xticklabels=4,\n",
    "            yticklabels=4)\n",
    "plt.xlabel('true label')\n",
    "plt.ylabel('predicted label');"
   ]
  },
  {
   "cell_type": "code",
   "execution_count": 97,
   "metadata": {},
   "outputs": [
    {
     "data": {
      "text/plain": [
       "0.0"
      ]
     },
     "execution_count": 97,
     "metadata": {},
     "output_type": "execute_result"
    }
   ],
   "source": [
    "accuracy_score(y_true, y_pred)"
   ]
  },
  {
   "cell_type": "code",
   "execution_count": 98,
   "metadata": {},
   "outputs": [],
   "source": [
    "clusters = model.fit_predict(X)"
   ]
  },
  {
   "cell_type": "code",
   "execution_count": null,
   "metadata": {},
   "outputs": [],
   "source": []
  },
  {
   "cell_type": "code",
   "execution_count": 99,
   "metadata": {},
   "outputs": [
    {
     "name": "stdout",
     "output_type": "stream",
     "text": [
      "(300,)\n",
      "[1 3 0 3 1 1 2 0 3 3 2 3 0 3 1 0 0 1 2 2 1 1 0 2 2 0 1 0 2 0 3 3 0 3 3 3 3\n",
      " 3 2 1 0 2 0 0 2 2 3 2 3 1 2 1 3 1 1 2 3 2 3 1 3 0 3 2 2 2 3 1 3 2 0 2 3 2\n",
      " 2 3 2 0 1 3 1 0 1 1 3 0 1 0 3 3 0 1 3 2 2 0 1 1 0 2 3 1 3 1 0 1 1 0 3 0 2\n",
      " 2 1 3 1 0 3 1 1 0 2 1 2 1 1 1 1 2 1 2 3 2 2 1 3 2 2 3 0 3 3 2 0 2 0 2 3 0\n",
      " 3 3 3 0 3 0 1 2 3 2 1 0 3 0 0 1 0 2 2 0 1 0 0 3 1 0 2 3 1 1 0 2 1 0 2 2 0\n",
      " 0 0 0 1 3 0 2 0 0 2 2 2 0 2 3 0 2 1 2 0 3 2 3 0 3 0 2 0 0 3 2 2 1 1 0 3 1\n",
      " 1 2 1 2 0 3 3 0 0 3 0 1 2 0 1 2 3 2 1 0 1 3 3 3 3 2 2 3 0 2 1 0 2 2 2 1 1\n",
      " 3 0 0 2 1 3 2 0 3 0 1 1 2 2 0 1 1 1 0 3 3 1 1 0 1 1 1 3 2 3 0 1 1 3 3 3 1\n",
      " 1 0 3 2]\n"
     ]
    }
   ],
   "source": [
    "# prepare our predictions\n",
    "from scipy.stats import mode\n",
    "\n",
    "#        create a zero matrix with the same shape\n",
    "labels = np.zeros_like(clusters)\n",
    "for i in range(301):\n",
    "    # this is similar to another for loop to check every element of clusters\n",
    "    # group all the elements of clusters == i, then assign these elements to mask\n",
    "    mask = (clusters == i)\n",
    "    labels[mask] = mode(y_true[mask])[0]\n",
    "    \n",
    "print(labels.shape)\n",
    "print(labels)"
   ]
  },
  {
   "cell_type": "code",
   "execution_count": 107,
   "metadata": {},
   "outputs": [],
   "source": [
    "model = KMeans(n_clusters=3, random_state=0)\n",
    "y_pred = model.fit_predict(X)"
   ]
  },
  {
   "cell_type": "code",
   "execution_count": 108,
   "metadata": {},
   "outputs": [
    {
     "data": {
      "text/plain": [
       "array([0, 2, 1, 2, 0, 0, 1, 1, 2, 2, 1, 2, 1, 2, 0, 1, 1, 0, 1, 1, 0, 0,\n",
       "       1, 1, 1, 1, 0, 1, 1, 1, 2, 2, 1, 2, 2, 2, 2, 2, 1, 0, 1, 1, 1, 1,\n",
       "       1, 1, 2, 1, 2, 0, 1, 0, 2, 0, 0, 1, 2, 1, 2, 0, 2, 1, 2, 1, 1, 1,\n",
       "       2, 0, 2, 1, 1, 1, 2, 1, 1, 2, 1, 1, 0, 2, 0, 1, 0, 0, 2, 1, 0, 1,\n",
       "       2, 2, 1, 0, 2, 1, 1, 1, 0, 0, 1, 1, 2, 0, 2, 0, 1, 0, 0, 1, 2, 1,\n",
       "       1, 1, 0, 2, 0, 1, 2, 0, 0, 1, 1, 0, 1, 0, 0, 0, 0, 1, 0, 1, 2, 1,\n",
       "       1, 0, 2, 1, 1, 2, 1, 2, 2, 1, 1, 1, 1, 1, 2, 1, 2, 2, 2, 1, 2, 1,\n",
       "       0, 1, 2, 1, 0, 1, 2, 1, 1, 0, 1, 1, 1, 1, 0, 1, 1, 2, 0, 1, 1, 2,\n",
       "       0, 0, 1, 1, 0, 1, 1, 1, 1, 1, 1, 1, 0, 2, 1, 1, 1, 1, 1, 1, 1, 1,\n",
       "       1, 2, 1, 1, 0, 1, 1, 2, 1, 2, 1, 2, 1, 1, 1, 1, 2, 1, 1, 0, 0, 1,\n",
       "       2, 0, 0, 1, 0, 1, 1, 2, 2, 1, 1, 2, 1, 0, 1, 1, 0, 1, 2, 1, 0, 1,\n",
       "       0, 2, 2, 2, 2, 1, 1, 2, 1, 1, 0, 1, 1, 1, 1, 0, 0, 2, 1, 1, 1, 0,\n",
       "       2, 1, 1, 2, 1, 0, 0, 1, 1, 0, 0, 0, 0, 1, 2, 2, 0, 0, 1, 0, 0, 0,\n",
       "       2, 1, 2, 1, 0, 0, 2, 2, 2, 0, 0, 1, 2, 1])"
      ]
     },
     "execution_count": 108,
     "metadata": {},
     "output_type": "execute_result"
    }
   ],
   "source": [
    "y_pred"
   ]
  },
  {
   "cell_type": "code",
   "execution_count": 109,
   "metadata": {},
   "outputs": [
    {
     "data": {
      "text/plain": [
       "array([1, 3, 0, 3, 1, 1, 2, 0, 3, 3, 2, 3, 0, 3, 1, 0, 0, 1, 2, 2, 1, 1,\n",
       "       0, 2, 2, 0, 1, 0, 2, 0, 3, 3, 0, 3, 3, 3, 3, 3, 2, 1, 0, 2, 0, 0,\n",
       "       2, 2, 3, 2, 3, 1, 2, 1, 3, 1, 1, 2, 3, 2, 3, 1, 3, 0, 3, 2, 2, 2,\n",
       "       3, 1, 3, 2, 0, 2, 3, 2, 2, 3, 2, 0, 1, 3, 1, 0, 1, 1, 3, 0, 1, 0,\n",
       "       3, 3, 0, 1, 3, 2, 2, 0, 1, 1, 0, 2, 3, 1, 3, 1, 0, 1, 1, 0, 3, 0,\n",
       "       2, 2, 1, 3, 1, 0, 3, 1, 1, 0, 2, 1, 2, 1, 1, 1, 1, 2, 1, 2, 3, 2,\n",
       "       2, 1, 3, 2, 2, 3, 0, 3, 3, 2, 0, 2, 0, 2, 3, 0, 3, 3, 3, 0, 3, 0,\n",
       "       1, 2, 3, 2, 1, 0, 3, 0, 0, 1, 0, 2, 2, 0, 1, 0, 0, 3, 1, 0, 2, 3,\n",
       "       1, 1, 0, 2, 1, 0, 2, 2, 0, 0, 0, 0, 1, 3, 0, 2, 0, 0, 2, 2, 2, 0,\n",
       "       2, 3, 0, 2, 1, 2, 0, 3, 2, 3, 0, 3, 0, 2, 0, 0, 3, 2, 2, 1, 1, 0,\n",
       "       3, 1, 1, 2, 1, 2, 0, 3, 3, 0, 0, 3, 0, 1, 2, 0, 1, 2, 3, 2, 1, 0,\n",
       "       1, 3, 3, 3, 3, 2, 2, 3, 0, 2, 1, 0, 2, 2, 2, 1, 1, 3, 0, 0, 2, 1,\n",
       "       3, 2, 0, 3, 0, 1, 1, 2, 2, 0, 1, 1, 1, 0, 3, 3, 1, 1, 0, 1, 1, 1,\n",
       "       3, 2, 3, 0, 1, 1, 3, 3, 3, 1, 1, 0, 3, 2])"
      ]
     },
     "execution_count": 109,
     "metadata": {},
     "output_type": "execute_result"
    }
   ],
   "source": [
    "y_true"
   ]
  },
  {
   "cell_type": "code",
   "execution_count": null,
   "metadata": {},
   "outputs": [],
   "source": [
    "model = KMeans(n_clusters=3, random_state=0)\n",
    "y_pred = model.fit_predict(X)\n",
    "accuracy_score(y_true, y_pred)"
   ]
  },
  {
   "cell_type": "code",
   "execution_count": 110,
   "metadata": {},
   "outputs": [
    {
     "data": {
      "text/plain": [
       "0.0033333333333333335"
      ]
     },
     "execution_count": 110,
     "metadata": {},
     "output_type": "execute_result"
    }
   ],
   "source": [
    "accuracy_score(y_true, y_pred)"
   ]
  },
  {
   "cell_type": "code",
   "execution_count": 79,
   "metadata": {},
   "outputs": [
    {
     "data": {
      "image/png": "[encoded data removed]",
      "text/plain": [
       "<Figure size 576x396 with 1 Axes>"
      ]
     },
     "metadata": {},
     "output_type": "display_data"
    }
   ],
   "source": [
    "\n",
    "\n",
    "mat = confusion_matrix(y_true, labels)\n",
    "sns.heatmap(mat.T, square=True, annot=True, fmt='d', cbar=False,\n",
    "            xticklabels=12,\n",
    "            yticklabels=12)\n",
    "plt.xlabel('true label')\n",
    "plt.ylabel('predicted label');"
   ]
  },
  {
   "cell_type": "code",
   "execution_count": null,
   "metadata": {},
   "outputs": [],
   "source": []
  },
  {
   "cell_type": "code",
   "execution_count": 33,
   "metadata": {},
   "outputs": [
    {
     "ename": "NameError",
     "evalue": "name 'digits' is not defined",
     "output_type": "error",
     "traceback": [
      "\u001b[1;31m---------------------------------------------------------------------------\u001b[0m",
      "\u001b[1;31mNameError\u001b[0m                                 Traceback (most recent call last)",
      "\u001b[1;32mc:\\Users\\johnh\\ML_HW2\\ML_HW2\\HW_2.ipynb Cell 12\u001b[0m in \u001b[0;36m<cell line: 2>\u001b[1;34m()\u001b[0m\n\u001b[0;32m      <a href='vscode-notebook-cell:/c%3A/Users/johnh/ML_HW2/ML_HW2/HW_2.ipynb#X25sZmlsZQ%3D%3D?line=0'>1</a>\u001b[0m \u001b[39mfrom\u001b[39;00m \u001b[39msklearn\u001b[39;00m\u001b[39m.\u001b[39;00m\u001b[39mmetrics\u001b[39;00m \u001b[39mimport\u001b[39;00m confusion_matrix\n\u001b[1;32m----> <a href='vscode-notebook-cell:/c%3A/Users/johnh/ML_HW2/ML_HW2/HW_2.ipynb#X25sZmlsZQ%3D%3D?line=1'>2</a>\u001b[0m mat \u001b[39m=\u001b[39m confusion_matrix(digits\u001b[39m.\u001b[39mtarget, labels)\n\u001b[0;32m      <a href='vscode-notebook-cell:/c%3A/Users/johnh/ML_HW2/ML_HW2/HW_2.ipynb#X25sZmlsZQ%3D%3D?line=2'>3</a>\u001b[0m sns\u001b[39m.\u001b[39mheatmap(mat\u001b[39m.\u001b[39mT, square\u001b[39m=\u001b[39m\u001b[39mTrue\u001b[39;00m, annot\u001b[39m=\u001b[39m\u001b[39mTrue\u001b[39;00m, fmt\u001b[39m=\u001b[39m\u001b[39m'\u001b[39m\u001b[39md\u001b[39m\u001b[39m'\u001b[39m, cbar\u001b[39m=\u001b[39m\u001b[39mFalse\u001b[39;00m,\n\u001b[0;32m      <a href='vscode-notebook-cell:/c%3A/Users/johnh/ML_HW2/ML_HW2/HW_2.ipynb#X25sZmlsZQ%3D%3D?line=3'>4</a>\u001b[0m             xticklabels\u001b[39m=\u001b[39mdigits\u001b[39m.\u001b[39mtarget_names,\n\u001b[0;32m      <a href='vscode-notebook-cell:/c%3A/Users/johnh/ML_HW2/ML_HW2/HW_2.ipynb#X25sZmlsZQ%3D%3D?line=4'>5</a>\u001b[0m             yticklabels\u001b[39m=\u001b[39mdigits\u001b[39m.\u001b[39mtarget_names)\n\u001b[0;32m      <a href='vscode-notebook-cell:/c%3A/Users/johnh/ML_HW2/ML_HW2/HW_2.ipynb#X25sZmlsZQ%3D%3D?line=5'>6</a>\u001b[0m plt\u001b[39m.\u001b[39mxlabel(\u001b[39m'\u001b[39m\u001b[39mtrue label\u001b[39m\u001b[39m'\u001b[39m)\n",
      "\u001b[1;31mNameError\u001b[0m: name 'digits' is not defined"
     ]
    }
   ],
   "source": [
    "from sklearn.metrics import confusion_matrix\n",
    "mat = confusion_matrix(digits.target, labels)\n",
    "sns.heatmap(mat.T, square=True, annot=True, fmt='d', cbar=False,\n",
    "            xticklabels=digits.target_names,\n",
    "            yticklabels=digits.target_names)\n",
    "plt.xlabel('true label')\n",
    "plt.ylabel('predicted label');"
   ]
  },
  {
   "cell_type": "code",
   "execution_count": null,
   "metadata": {},
   "outputs": [],
   "source": []
  },
  {
   "cell_type": "code",
   "execution_count": 13,
   "metadata": {},
   "outputs": [
    {
     "data": {
      "text/plain": [
       "array([[ 8.36856841e-01,  2.13635938e+00],\n",
       "       [-1.41365810e+00,  7.40962324e+00],\n",
       "       [ 1.15521298e+00,  5.09961887e+00],\n",
       "       [-1.01861632e+00,  7.81491465e+00],\n",
       "       [ 1.27135141e+00,  1.89254207e+00],\n",
       "       [ 3.43761754e+00,  2.61654166e-01],\n",
       "       [-1.80822253e+00,  1.59701749e+00],\n",
       "       [ 1.41372442e+00,  4.38117707e+00],\n",
       "       [-2.04932168e-01,  8.43209665e+00],\n",
       "       [-7.11099611e-01,  8.66043846e+00],\n",
       "       [-1.71237268e+00,  2.77780226e+00],\n",
       "       [-2.67000792e+00,  8.35389140e+00],\n",
       "       [ 1.24258802e+00,  4.50399192e+00],\n",
       "       [-2.22783649e+00,  6.89479938e+00],\n",
       "       [ 1.45513831e+00, -2.91989981e-02],\n",
       "       [ 4.53791789e-01,  3.95647753e+00],\n",
       "       [ 1.06923853e+00,  4.53068484e+00],\n",
       "       [ 2.56936589e+00,  5.07048304e-01],\n",
       "       [-1.06690610e+00,  3.13165795e+00],\n",
       "       [-1.07859101e+00,  2.20451529e+00],\n",
       "       [ 2.71506328e+00,  1.29082190e+00],\n",
       "       [ 1.77710994e+00,  1.18655254e+00],\n",
       "       [ 7.34363910e-01,  5.03725437e+00],\n",
       "       [-1.99648151e+00,  2.85164868e+00],\n",
       "       [-1.91828017e+00,  2.60516867e+00],\n",
       "       [-5.55523811e-01,  4.69595848e+00],\n",
       "       [ 1.69747910e+00,  8.66123282e-01],\n",
       "       [ 5.94762432e-01,  4.70964730e+00],\n",
       "       [-2.88024255e+00,  2.30437816e+00],\n",
       "       [ 1.86725632e-01,  4.02683656e+00],\n",
       "       [-5.13333436e-01,  7.87437368e+00],\n",
       "       [-2.05701103e+00,  7.37851598e+00],\n",
       "       [ 1.87271752e+00,  4.18069237e+00],\n",
       "       [-1.13121396e+00,  6.76652230e+00],\n",
       "       [-1.64428957e+00,  7.94095139e+00],\n",
       "       [-2.41933824e+00,  7.43952498e+00],\n",
       "       [-2.01606928e+00,  7.48420129e+00],\n",
       "       [-2.62142780e+00,  7.98635066e+00],\n",
       "       [-2.20299950e+00,  2.47947561e+00],\n",
       "       [ 1.66382237e+00,  6.63091635e-01],\n",
       "       [ 6.69786996e-01,  3.59540802e+00],\n",
       "       [-1.98539037e+00,  2.05520738e+00],\n",
       "       [-4.74920358e-02,  5.47425256e+00],\n",
       "       [ 1.54462126e+00,  4.21078127e+00],\n",
       "       [-1.70200643e+00,  2.46098693e+00],\n",
       "       [-1.02192525e+00,  2.76820711e+00],\n",
       "       [-1.37842552e+00,  8.10269597e+00],\n",
       "       [-1.55220688e+00,  2.74574995e+00],\n",
       "       [-1.47904303e+00,  7.56915836e+00],\n",
       "       [ 1.98894313e+00,  1.50976729e+00],\n",
       "       [-1.94972418e+00,  3.48383870e+00],\n",
       "       [ 2.45509737e+00,  6.21231788e-01],\n",
       "       [-8.94327882e-01,  7.61714473e+00],\n",
       "       [ 1.69687788e+00,  7.54910622e-01],\n",
       "       [ 1.75644805e+00,  2.05538289e+00],\n",
       "       [-1.11064012e+00,  2.82213820e+00],\n",
       "       [-4.15017659e-02,  7.80870276e+00],\n",
       "       [-1.14091533e+00,  1.97550822e+00],\n",
       "       [-1.80634968e+00,  7.72830656e+00],\n",
       "       [ 1.39263752e+00,  9.28962707e-01],\n",
       "       [-2.25698670e+00,  7.30207720e+00],\n",
       "       [ 5.71670482e-01,  4.32288566e+00],\n",
       "       [-1.54994580e+00,  9.28293222e+00],\n",
       "       [-1.03819212e+00,  2.95323761e+00],\n",
       "       [-2.10956676e+00,  3.10677258e+00],\n",
       "       [-1.18652985e+00,  2.78427720e+00],\n",
       "       [-2.45809975e+00,  7.51178724e+00],\n",
       "       [ 2.36960214e+00,  9.50716912e-01],\n",
       "       [-2.66676007e+00,  7.84766052e+00],\n",
       "       [-1.49720702e+00,  3.21418433e+00],\n",
       "       [ 1.32222457e+00,  4.17880807e+00],\n",
       "       [-4.87271301e-01,  3.32858293e+00],\n",
       "       [-1.03718771e+00,  8.06300134e+00],\n",
       "       [-1.60496819e+00,  2.97425420e+00],\n",
       "       [-1.50372568e+00,  1.92385320e+00],\n",
       "       [-7.85412206e-01,  8.45312331e+00],\n",
       "       [-1.75783190e+00,  2.97449321e+00],\n",
       "       [ 1.19008992e+00,  4.72773123e+00],\n",
       "       [ 2.14043942e+00,  7.06066610e-01],\n",
       "       [-1.03540116e+00,  8.20559195e+00],\n",
       "       [ 1.25471244e+00,  8.96331565e-02],\n",
       "       [ 5.95676822e-01,  4.08614263e+00],\n",
       "       [ 1.27955338e+00,  1.05789418e+00],\n",
       "       [ 1.72955064e+00,  1.14729369e+00],\n",
       "       [-9.49041610e-01,  8.46424331e+00],\n",
       "       [ 9.35325115e-01,  5.33179296e+00],\n",
       "       [ 2.36923352e+00,  7.94735861e-01],\n",
       "       [ 4.28576743e-01,  4.97399710e+00],\n",
       "       [-2.04758277e+00,  6.65428520e+00],\n",
       "       [-1.45672617e+00,  7.48669893e+00],\n",
       "       [ 5.29417185e-01,  3.80792420e+00],\n",
       "       [ 1.78194802e+00,  9.08151155e-01],\n",
       "       [-1.95575053e+00,  8.61631686e+00],\n",
       "       [-1.74572014e+00,  3.01190457e+00],\n",
       "       [-1.17979111e+00,  3.12767494e+00],\n",
       "       [ 1.16411070e+00,  3.79132988e+00],\n",
       "       [ 1.36155806e+00,  1.36638252e+00],\n",
       "       [ 2.60137487e+00,  1.08799459e+00],\n",
       "       [ 2.72396035e-01,  5.46996004e+00],\n",
       "       [-3.12240736e+00,  3.28167398e+00],\n",
       "       [-5.88085172e-01,  8.61427320e+00],\n",
       "       [ 1.66909648e+00, -4.36378231e-01],\n",
       "       [-6.82774903e-01,  7.67490317e+00],\n",
       "       [ 2.36790645e+00,  5.52190878e-01],\n",
       "       [ 1.05241733e+00,  4.54498095e+00],\n",
       "       [ 2.22707373e+00,  1.26296996e+00],\n",
       "       [ 2.43934644e+00, -7.25099666e-02],\n",
       "       [ 1.34471770e+00,  4.85711133e+00],\n",
       "       [-1.31454942e+00,  6.83904013e+00],\n",
       "       [ 9.82570091e-01,  5.37530962e+00],\n",
       "       [-1.06295223e+00,  2.20755388e+00],\n",
       "       [-1.60712495e+00,  3.56452854e+00],\n",
       "       [ 1.57322172e+00,  4.83933793e-01],\n",
       "       [-2.17851338e+00,  8.08585131e+00],\n",
       "       [ 1.83375842e+00,  7.54036153e-01],\n",
       "       [ 2.10616050e+00,  3.49513189e+00],\n",
       "       [-1.64338755e+00,  7.52691964e+00],\n",
       "       [ 1.10550448e+00,  1.26389129e+00],\n",
       "       [ 1.61152972e+00,  1.82347242e+00],\n",
       "       [ 4.59534668e-01,  5.44982630e+00],\n",
       "       [-5.38023054e-01,  3.01641891e+00],\n",
       "       [ 1.67841499e+00,  6.09047389e-01],\n",
       "       [-1.01214966e+00,  3.60254338e+00],\n",
       "       [ 1.34195197e+00,  5.93573847e-01],\n",
       "       [ 1.42811550e+00,  1.62435083e+00],\n",
       "       [ 2.04505527e+00,  1.12515470e+00],\n",
       "       [ 1.67280531e+00,  6.59300571e-01],\n",
       "       [-1.35863899e+00,  2.32200809e+00],\n",
       "       [ 1.13078931e+00,  9.35620856e-01],\n",
       "       [-1.73896306e+00,  1.94799775e+00],\n",
       "       [-3.40258925e-01,  8.16733925e+00],\n",
       "       [-1.63793622e+00,  2.43329317e+00],\n",
       "       [-1.68754414e+00,  2.24107546e+00],\n",
       "       [ 2.43040639e+00, -6.35709334e-02],\n",
       "       [-1.37998039e+00,  7.18503804e+00],\n",
       "       [-1.25245465e+00,  2.33911505e+00],\n",
       "       [-2.39482483e+00,  3.39806103e+00],\n",
       "       [-2.09183352e+00,  7.48142543e+00],\n",
       "       [ 4.88382309e-01,  3.26801777e+00],\n",
       "       [-5.39428614e-01,  7.45631776e+00],\n",
       "       [-2.59201821e+00,  8.07635945e+00],\n",
       "       [-1.04656513e+00,  2.96483837e+00],\n",
       "       [ 1.25566754e+00,  3.38204112e+00],\n",
       "       [-1.62150422e+00,  4.27191636e+00],\n",
       "       [ 1.86922139e+00,  5.44132083e+00],\n",
       "       [-1.76404140e+00,  2.22222995e+00],\n",
       "       [-1.38181918e+00,  7.28761248e+00],\n",
       "       [ 7.93137001e-03,  4.17614316e+00],\n",
       "       [-1.10298500e+00,  7.30222786e+00],\n",
       "       [-1.79351372e+00,  7.58086944e+00],\n",
       "       [-1.51176949e+00,  7.94426307e+00],\n",
       "       [ 9.59360742e-01,  4.56078645e+00],\n",
       "       [-6.01337393e-01,  6.29994922e+00],\n",
       "       [ 2.24592863e-01,  4.77028154e+00],\n",
       "       [ 1.56724897e+00,  1.78090633e-02],\n",
       "       [-1.03395259e+00,  2.92105785e+00],\n",
       "       [-9.22268640e-01,  8.09888579e+00],\n",
       "       [-1.88609638e+00,  2.24834407e+00],\n",
       "       [ 1.86873582e+00,  9.56103760e-01],\n",
       "       [ 1.10123507e+00,  4.88977075e+00],\n",
       "       [-1.93213725e+00,  8.30643453e+00],\n",
       "       [ 6.70478769e-01,  4.04094275e+00],\n",
       "       [ 7.43873988e-01,  4.12240568e+00],\n",
       "       [ 1.64003761e+00,  1.81948989e+00],\n",
       "       [ 8.15468056e-01,  4.78526116e+00],\n",
       "       [-2.63274574e+00,  2.63109786e+00],\n",
       "       [-9.61076361e-01,  1.27407596e+00],\n",
       "       [ 2.13979079e-01,  4.88542535e+00],\n",
       "       [ 1.43472182e+00,  1.30662037e+00],\n",
       "       [ 1.21387411e+00,  3.64795042e+00],\n",
       "       [ 1.08272576e+00,  4.06271877e+00],\n",
       "       [-1.22605234e+00,  8.29620146e+00],\n",
       "       [ 1.48170052e+00,  6.90074595e-01],\n",
       "       [ 1.89593761e+00,  5.18540259e+00],\n",
       "       [-1.32356154e+00,  4.13050840e+00],\n",
       "       [-1.14989863e+00,  7.89325283e+00],\n",
       "       [ 2.46915842e+00,  1.67877140e+00],\n",
       "       [ 2.31102276e+00,  1.30380848e+00],\n",
       "       [ 5.72793810e-01,  4.08805543e+00],\n",
       "       [-9.67794989e-01,  3.12186125e+00],\n",
       "       [ 2.62492001e+00,  9.50194405e-01],\n",
       "       [ 1.68353782e+00,  4.19583243e+00],\n",
       "       [-2.22131717e+00,  2.73050691e+00],\n",
       "       [-1.57846247e+00,  3.03445802e+00],\n",
       "       [ 8.15155229e-02,  4.56742235e+00],\n",
       "       [ 1.43289271e+00,  4.37679234e+00],\n",
       "       [ 1.06269622e+00,  5.17635143e+00],\n",
       "       [ 7.67522789e-01,  4.39759671e+00],\n",
       "       [ 2.47019077e+00,  1.31451315e+00],\n",
       "       [-1.73163168e+00,  7.16447286e+00],\n",
       "       [ 3.47138300e-01,  3.45177657e+00],\n",
       "       [-1.00140436e+00,  2.84881778e+00],\n",
       "       [ 1.01618041e+00,  4.48527047e+00],\n",
       "       [ 5.59529363e-01,  4.21400660e+00],\n",
       "       [-2.11821046e+00,  2.03478126e+00],\n",
       "       [-1.36219420e+00,  2.38333321e+00],\n",
       "       [-2.78366586e+00,  2.99211541e+00],\n",
       "       [ 1.65225163e+00,  3.65582842e+00],\n",
       "       [-1.93960658e+00,  2.18943582e+00],\n",
       "       [-1.81487687e+00,  7.97832190e+00],\n",
       "       [ 1.20212540e+00,  3.64414685e+00],\n",
       "       [-9.69200946e-01,  3.26721702e+00],\n",
       "       [ 1.86985974e+00, -1.07938624e-01],\n",
       "       [-1.80701134e+00,  2.06773859e+00],\n",
       "       [ 1.21767506e+00,  3.89290127e+00],\n",
       "       [-1.48368917e+00,  6.00777418e+00],\n",
       "       [-1.56387985e+00,  2.85349910e+00],\n",
       "       [-6.86210297e-01,  8.68285664e+00],\n",
       "       [ 1.07627418e+00,  4.68480619e+00],\n",
       "       [-9.75986627e-01,  6.73761577e+00],\n",
       "       [ 1.37964693e+00,  4.54826443e+00],\n",
       "       [-1.64129611e+00,  2.68097255e+00],\n",
       "       [-1.84892963e-03,  4.58145668e+00],\n",
       "       [ 1.71444449e+00,  5.02521524e+00],\n",
       "       [-1.40524304e+00,  7.72611315e+00],\n",
       "       [-7.08184904e-01,  2.50421275e+00],\n",
       "       [-8.85798374e-01,  2.64585078e+00],\n",
       "       [ 1.98436909e+00,  4.89556738e-01],\n",
       "       [ 2.95195825e+00, -3.44327355e-01],\n",
       "       [ 4.31891060e-01,  4.33495456e+00],\n",
       "       [-1.86621694e+00,  7.62549400e+00],\n",
       "       [ 2.52706430e+00,  6.17812202e-01],\n",
       "       [ 2.04067185e+00,  4.54845114e-01],\n",
       "       [-2.58043836e+00,  3.18844294e+00],\n",
       "       [ 1.61990909e+00,  6.76452867e-02],\n",
       "       [-2.58802708e+00,  3.13117134e+00],\n",
       "       [ 4.43598630e-01,  3.11530945e+00],\n",
       "       [-4.56773649e-01,  7.30600872e+00],\n",
       "       [-1.12867566e+00,  7.80509789e+00],\n",
       "       [ 2.13003529e+00,  5.19209620e+00],\n",
       "       [ 1.00372519e+00,  4.19147702e+00],\n",
       "       [-1.39346767e+00,  8.74641672e+00],\n",
       "       [ 7.28098690e-01,  3.85531444e+00],\n",
       "       [ 8.93499638e-01,  1.01093082e+00],\n",
       "       [-1.10782972e+00,  2.92014479e+00],\n",
       "       [ 7.89338559e-01,  4.33748653e+00],\n",
       "       [ 1.97553917e+00,  7.18989132e-01],\n",
       "       [-1.24902582e+00,  3.08533972e+00],\n",
       "       [-1.07768797e+00,  8.88106128e+00],\n",
       "       [-1.86849125e+00,  3.07982487e+00],\n",
       "       [ 2.76808540e+00,  1.08782923e+00],\n",
       "       [ 2.77180174e-01,  4.84428322e+00],\n",
       "       [ 3.41085289e+00,  8.72309369e-01],\n",
       "       [-1.58084155e+00,  7.55307742e+00],\n",
       "       [-1.53027550e+00,  7.70542113e+00],\n",
       "       [-1.82455840e+00,  7.35958960e+00],\n",
       "       [-1.68568257e+00,  7.95339446e+00],\n",
       "       [-1.65104622e+00,  3.44598961e+00],\n",
       "       [-1.30440901e+00,  3.00311934e+00],\n",
       "       [-7.30698168e-01,  6.24208856e+00],\n",
       "       [ 2.40615694e+00,  4.87047502e+00],\n",
       "       [-1.53631328e+00,  3.01443916e+00],\n",
       "       [ 1.48859977e+00,  6.51633844e-01],\n",
       "       [ 5.14320434e-01,  4.62733684e+00],\n",
       "       [-1.81469750e+00,  3.29009724e+00],\n",
       "       [-1.93731055e+00,  3.91361274e+00],\n",
       "       [-6.14907097e-01,  3.94963585e+00],\n",
       "       [ 2.03169783e+00,  1.96807561e-01],\n",
       "       [ 2.14917144e+00,  1.03697228e+00],\n",
       "       [-1.36999388e+00,  7.76953035e+00],\n",
       "       [ 9.14338767e-01,  4.55014643e+00],\n",
       "       [ 3.33818506e-01,  4.93645836e+00],\n",
       "       [-2.15968109e+00,  3.41003096e+00],\n",
       "       [ 1.36678633e+00,  6.34971633e-01],\n",
       "       [-5.71099336e-01,  8.13306058e+00],\n",
       "       [-1.00552592e+00,  3.08400540e+00],\n",
       "       [ 1.49493180e+00,  3.85848832e+00],\n",
       "       [-5.90447667e-01,  7.69493053e+00],\n",
       "       [ 7.15177948e-01,  5.41334556e+00],\n",
       "       [ 2.11390250e+00,  1.24743587e+00],\n",
       "       [ 1.20083098e+00,  6.01671730e-01],\n",
       "       [-2.54576750e+00,  3.15025055e+00],\n",
       "       [-1.95866665e+00,  2.43008647e+00],\n",
       "       [ 2.33812285e+00,  3.43116792e+00],\n",
       "       [ 3.35320909e+00,  1.69958043e+00],\n",
       "       [ 1.84287117e+00,  7.26928839e-02],\n",
       "       [ 1.32000621e+00,  1.40428145e+00],\n",
       "       [ 2.09680545e+00,  4.84741412e+00],\n",
       "       [-1.24307904e+00,  8.15166254e+00],\n",
       "       [-1.85908090e+00,  7.78874716e+00],\n",
       "       [ 2.74666646e+00,  1.54543482e+00],\n",
       "       [ 2.60778282e+00,  1.08890025e+00],\n",
       "       [ 1.65991049e+00,  3.56289184e+00],\n",
       "       [ 2.35151259e+00,  8.28001297e-01],\n",
       "       [ 2.22322228e+00,  8.38773426e-01],\n",
       "       [ 3.22881491e+00,  1.13171965e+00],\n",
       "       [-1.55876720e+00,  7.24816210e+00],\n",
       "       [-6.46956784e-01,  3.42941343e+00],\n",
       "       [-1.32688818e+00,  8.51530794e+00],\n",
       "       [ 9.17198564e-01,  3.90570036e+00],\n",
       "       [ 2.29469533e+00, -7.65891994e-01],\n",
       "       [ 1.81559810e+00,  1.11969719e+00],\n",
       "       [-1.12016775e+00,  7.11031582e+00],\n",
       "       [-1.65507124e+00,  8.61416749e+00],\n",
       "       [-1.27567815e+00,  7.96776461e+00],\n",
       "       [ 1.97369770e+00,  1.57979848e+00],\n",
       "       [ 2.51834185e+00,  1.39176615e+00],\n",
       "       [ 4.38990142e-01,  4.53592883e+00],\n",
       "       [ 3.69478657e-01,  7.79110522e+00],\n",
       "       [-1.79145759e+00,  2.74966896e+00]])"
      ]
     },
     "execution_count": 13,
     "metadata": {},
     "output_type": "execute_result"
    }
   ],
   "source": [
    "X"
   ]
  },
  {
   "cell_type": "code",
   "execution_count": null,
   "metadata": {},
   "outputs": [],
   "source": [
    "model = KMeans()"
   ]
  },
  {
   "cell_type": "code",
   "execution_count": 14,
   "metadata": {},
   "outputs": [
    {
     "data": {
      "text/plain": [
       "Text(0.5, 1.0, 'The Elbow Method showing the optimal k')"
      ]
     },
     "execution_count": 14,
     "metadata": {},
     "output_type": "execute_result"
    },
    {
     "data": {
      "image/png": "[encoded data removed]",
      "text/plain": [
       "<Figure size 576x396 with 1 Axes>"
      ]
     },
     "metadata": {},
     "output_type": "display_data"
    }
   ],
   "source": [
    "distortions = []\n",
    "for k in range(1,10):\n",
    "    model = KMeans(n_clusters=k)\n",
    "    \n",
    "    model.fit(X)\n",
    "    # use cdist to calculate euclidean distance between centroids and the corresponding points,\n",
    "    # then calculate the mean distances\n",
    "    # Here is the url for cdist: https://docs.scipy.org/doc/scipy/reference/generated/scipy.spatial.distance.cdist.html\n",
    "    # we need np.min because cdist will calculate the distances between X and all the centroids. We only need the minimum distance\n",
    "    # because the min value is the distance between the corresponding centroid with the data\n",
    "    # axis = 1 because we want to choose the first dimentional min value\n",
    "\n",
    "\n",
    "\n",
    "    distortions.append(sum(np.min(cdist(X, model.cluster_centers_, 'euclidean'), axis=1)) / X.shape[0])\n",
    "\n",
    "\n",
    "\n",
    "# Plot the elbow\n",
    "plt.plot(range(1,10), distortions, 'bx-')\n",
    "plt.xlabel('k')\n",
    "plt.ylabel('Distortion')\n",
    "plt.title('The Elbow Method showing the optimal k')"
   ]
  },
  {
   "cell_type": "code",
   "execution_count": 10,
   "metadata": {},
   "outputs": [
    {
     "data": {
      "text/plain": [
       "[2.765994614752056,\n",
       " 1.8129310639768494,\n",
       " 1.1836712829653877,\n",
       " 0.7429795435356283,\n",
       " 0.6968052869358891,\n",
       " 0.6613247123212984,\n",
       " 0.62342616353679,\n",
       " 0.5956894850127658,\n",
       " 0.5613422982419064]"
      ]
     },
     "execution_count": 10,
     "metadata": {},
     "output_type": "execute_result"
    }
   ],
   "source": [
    "distortions"
   ]
  },
  {
   "cell_type": "code",
   "execution_count": null,
   "metadata": {},
   "outputs": [],
   "source": []
  }
 ],
 "metadata": {
  "kernelspec": {
   "display_name": "Python 3.9.12 ('base')",
   "language": "python",
   "name": "python3"
  },
  "language_info": {
   "codemirror_mode": {
    "name": "ipython",
    "version": 3
   },
   "file_extension": ".py",
   "mimetype": "text/x-python",
   "name": "python",
   "nbconvert_exporter": "python",
   "pygments_lexer": "ipython3",
   "version": "3.9.12"
  },
  "vscode": {
   "interpreter": {
    "hash": "e183665aec53617f6a793cb2a69d11e345ff76bb7bc8759926b012c4a43eec49"
   }
  }
 },
 "nbformat": 4,
 "nbformat_minor": 2
}
